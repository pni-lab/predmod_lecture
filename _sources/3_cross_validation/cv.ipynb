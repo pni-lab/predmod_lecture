{
 "cells": [
  {
   "cell_type": "markdown",
   "metadata": {
    "collapsed": true,
    "pycharm": {
     "name": "#%% md\n"
    }
   },
   "source": [
    "# Cross-validation\n",
    "\n",
    "In the [previous section](train_test.ipynb), we have seen that, to obtain unbiased estimates of the predictive performance of any model, it should be evaluated on data that the model has not seen before (during training).\n",
    "\n",
    "At this point, we often have to make a compromise: the larger the training sample the better our model might get, but - at the same time - we must hold out enough data to hev robust estimates of predictive performance.\n",
    "\n",
    "A data acquisition in biomedical research is usually costly (both financially and in terms of effort), holding out a significant part of the data solely for testing sounds pretty uneconomical.\n",
    "\n",
    "Cross-validation is a framework for using as much of the data for training as possible and, at the same time, get as reliable performance estimates of our model (and similar models) as possible.\n",
    "\n",
    "Yes, with cross-validation you can have your cake and eat it too! But of course only with some extra assumptions.\n",
    "\n",
    "## The cross-validation scheme"
   ]
  },
  {
   "cell_type": "markdown",
   "metadata": {
    "pycharm": {
     "name": "#%% md\n"
    }
   },
   "source": [
    "The central idea behind cross-validation is that you create multiple models each oif them using different parts of the data as train and test sets.\n",
    "\n",
    "The assumption is that all of these models approximate our \"idealistic\" model (e.g. that we would get when trained on a reasonably large dataset) to a sufficient degree, i.e. they can be considered to constitute a narrow family of tha aforementioned idealistic model.\n",
    "\n",
    "With this assumptions, we can allows the single models to use as much data for training as possible (by have a relatively large training set small test set).\n",
    "We don't have to be worried that the single models have too small test sets for robust inference of predictive performance.\n",
    "We can simply pool and summarize the prediction accuracy estimates of all these models.\n",
    "\n",
    "Importantly, such pooled estimates will not be specific for any of the models but rather characterise the whole family of models.\n",
    "In most cases, however, it is perfectly fine to be able to draw a conclusion about the predictive performance of \"models similar to this\", instead of \"this\" very specific model.\n",
    "\n"
   ]
  },
  {
   "cell_type": "markdown",
   "metadata": {
    "pycharm": {
     "name": "#%% md\n"
    }
   },
   "source": [
    "## Leave-one-out cross-validation\n",
    "\n",
    "The simplest form of cross validation is leave-one-out (LOO) cross-validation.\n",
    "As illustrated on the figure {numref}`loo`, in LOO, we have as many models as many subjects(/participants/examples/rows) our dataset has and all of these models leave out a different single subject for testing purposes.\n",
    "\n",
    ":::{figure-md} loo\n",
    "<img src=\"https://upload.wikimedia.org/wikipedia/commons/c/c7/LOOCV.gif\" alt=\"fishy\" width=\"400px\">\n",
    "\n",
    "Leave-one-out cross-validation *(Source: [Wikipedia](https://en.wikipedia.org/wiki/Cross-validation_(statistics)#/media/File:LOOCV.gif), user: MBanuelos22, unmodified, CC BY-SA 4.0)*.\n",
    ":::\n",
    "\n",
    "LOO is very simple to implement in python with a single for loop:"
   ]
  },
  {
   "cell_type": "code",
   "execution_count": 7,
   "metadata": {
    "pycharm": {
     "name": "#%%\n"
    }
   },
   "outputs": [
    {
     "name": "stdout",
     "output_type": "stream",
     "text": [
      "LOO iteration 0 : Here is model 0 to be fitted and tested on:\n",
      "\tTrain indices: [1 2 3 4 5] Test index: [0]\n",
      "\tTrain data   : ['b' 'c' 'd' 'e' 'f'] Test data : ['a']\n",
      "LOO iteration 1 : Here is model 1 to be fitted and tested on:\n",
      "\tTrain indices: [0 2 3 4 5] Test index: [1]\n",
      "\tTrain data   : ['a' 'c' 'd' 'e' 'f'] Test data : ['b']\n",
      "LOO iteration 2 : Here is model 2 to be fitted and tested on:\n",
      "\tTrain indices: [0 1 3 4 5] Test index: [2]\n",
      "\tTrain data   : ['a' 'b' 'd' 'e' 'f'] Test data : ['c']\n",
      "LOO iteration 3 : Here is model 3 to be fitted and tested on:\n",
      "\tTrain indices: [0 1 2 4 5] Test index: [3]\n",
      "\tTrain data   : ['a' 'b' 'c' 'e' 'f'] Test data : ['d']\n",
      "LOO iteration 4 : Here is model 4 to be fitted and tested on:\n",
      "\tTrain indices: [0 1 2 3 5] Test index: [4]\n",
      "\tTrain data   : ['a' 'b' 'c' 'd' 'f'] Test data : ['e']\n",
      "LOO iteration 5 : Here is model 5 to be fitted and tested on:\n",
      "\tTrain indices: [0 1 2 3 4] Test index: [5]\n",
      "\tTrain data   : ['a' 'b' 'c' 'd' 'e'] Test data : ['f']\n"
     ]
    }
   ],
   "source": [
    "import numpy as np\n",
    "\n",
    "subjects = np.array(['a', 'b', 'c', 'd', 'e', 'f'])\n",
    "num_subjects = len(subjects)\n",
    "indices = np.arange(num_subjects)\n",
    "\n",
    "for i in indices:\n",
    "    print(\"LOO iteration\", i, \": Here is model\", i, \"to be fitted and tested on:\")\n",
    "    print(\"\\tTrain indices:\", indices[indices!=i],  \"Test index:\", indices[indices==i])\n",
    "    print(\"\\tTrain data   :\", subjects[indices!=i],  \"Test data :\", subjects[indices==i])\n"
   ]
  },
  {
   "cell_type": "markdown",
   "metadata": {},
   "source": [
    "Scikit-learn provides a [shorthand](https://scikit-learn.org/stable/modules/generated/sklearn.model_selection.LeaveOneOut.html) for LOO:"
   ]
  },
  {
   "cell_type": "code",
   "execution_count": 26,
   "metadata": {
    "pycharm": {
     "name": "#%%\n"
    },
    "tags": [
     "hide-cell"
    ]
   },
   "outputs": [
    {
     "name": "stdout",
     "output_type": "stream",
     "text": [
      "Requirement already satisfied: scikit-learn in /home/tspisak/src/RPN-signature/venv/lib/python3.8/site-packages (0.24.2)\r\n",
      "Requirement already satisfied: scipy>=0.19.1 in /home/tspisak/src/RPN-signature/venv/lib/python3.8/site-packages (from scikit-learn) (1.7.1)\r\n",
      "Requirement already satisfied: numpy>=1.13.3 in /home/tspisak/src/RPN-signature/venv/lib/python3.8/site-packages (from scikit-learn) (1.19.5)\r\n",
      "Requirement already satisfied: joblib>=0.11 in /home/tspisak/src/RPN-signature/venv/lib/python3.8/site-packages (from scikit-learn) (1.0.1)\r\n",
      "Requirement already satisfied: threadpoolctl>=2.0.0 in /home/tspisak/src/RPN-signature/venv/lib/python3.8/site-packages (from scikit-learn) (2.2.0)\r\n",
      "\u001B[33mWARNING: You are using pip version 21.2.4; however, version 22.0.3 is available.\r\n",
      "You should consider upgrading via the '/home/tspisak/src/RPN-signature/venv/bin/python -m pip install --upgrade pip' command.\u001B[0m\r\n"
     ]
    }
   ],
   "source": [
    "!pip install scikit-learn\n",
    "import pandas as pd\n",
    "import seaborn as sns"
   ]
  },
  {
   "cell_type": "code",
   "execution_count": 19,
   "metadata": {
    "pycharm": {
     "name": "#%%\n"
    }
   },
   "outputs": [
    {
     "name": "stdout",
     "output_type": "stream",
     "text": [
      "train_index\ttest_index\n",
      "[1 2 3 4 5]\t[0]\n",
      "[0 2 3 4 5]\t[1]\n",
      "[0 1 3 4 5]\t[2]\n",
      "[0 1 2 4 5]\t[3]\n",
      "[0 1 2 3 5]\t[4]\n",
      "[0 1 2 3 4]\t[5]\n"
     ]
    }
   ],
   "source": [
    "from sklearn.model_selection import LeaveOneOut\n",
    "\n",
    "subjects = np.array(['a', 'b', 'c', 'd', 'e', 'f'])\n",
    "cv = LeaveOneOut()\n",
    "\n",
    "print(\"train_index\", \"test_index\", sep='\\t')\n",
    "for train_index, test_index in cv.split(subjects):\n",
    "    print(train_index, test_index, sep='\\t')"
   ]
  },
  {
   "cell_type": "markdown",
   "metadata": {},
   "source": [
    ":::{note}\n",
    "Note that python start indexing arrays from 0, a convention that might be strange at first, but very helpful in practice.\n",
    ":::\n",
    "\n",
    ":::{note}\n",
    "You may notice that in python you must use indentation to define the scope of a for loop (and many other constructs). This forces you to write code that is easier to read.\n",
    ":::"
   ]
  },
  {
   "cell_type": "markdown",
   "metadata": {},
   "source": [
    "## K-fold cross-validation\n",
    "\n",
    "LOO uses as much data for training as possible. This makes it often the default solution in case of very small datasets.\n",
    "\n",
    "It has however some drawbacks:\n",
    "- you need to fit as many models as many subjects you have. This might be time-consuming with large data and computationally intensive models.\n",
    "- you have a limited picture on how consistently the individual models perform.\n",
    "- LOO may lead to a larger variance of the expected generalization error, see this [stackexchange thread](https://stats.stackexchange.com/questions/61783/bias-and-variance-in-leave-one-out-vs-k-fold-cross-validation) for details.\n",
    "\n",
    "For larger datasets, we can divide the dataset into k approximately equally sized, disjunct partitions, so-called folds.\n",
    "Then we leave one fold at a time, resulting in k models, as illustrated on figure {numref}`loo`.\n",
    "\n",
    ":::{figure-md} kfold\n",
    "<img src=\"https://upload.wikimedia.org/wikipedia/commons/thumb/4/4b/KfoldCV.gif/1920px-KfoldCV.gif\" alt=\"fishy\" width=\"400px\">\n",
    "\n",
    "K-fold cross-validation *(Source: [Wikipedia](https://en.wikipedia.org/wiki/Cross-validation_(statistics)#/media/File:KfoldCV.gif), user: MBanuelos22, unmodified, CC BY-SA 4.0)*.\n",
    ":::"
   ]
  },
  {
   "cell_type": "markdown",
   "metadata": {
    "pycharm": {
     "name": "#%% md\n"
    }
   },
   "source": [
    "While it is relatively easy to implement k-fold cross-validation in native python, here we simply use the scikit-learn [shorthand](https://scikit-learn.org/stable/modules/generated/sklearn.model_selection.KFold.html):"
   ]
  },
  {
   "cell_type": "code",
   "execution_count": 16,
   "metadata": {
    "pycharm": {
     "name": "#%%\n"
    }
   },
   "outputs": [
    {
     "name": "stdout",
     "output_type": "stream",
     "text": [
      "train_index\ttest_index\n",
      "[2 3 4 5]\t[0 1]\n",
      "[0 1 4 5]\t[2 3]\n",
      "[0 1 2 3]\t[4 5]\n"
     ]
    }
   ],
   "source": [
    "from sklearn.model_selection import KFold\n",
    "\n",
    "subjects = np.array(['a', 'b', 'c', 'd', 'e', 'f'])\n",
    "cv = KFold(3)\n",
    "\n",
    "print(\"train_index\", \"test_index\", sep='\\t')\n",
    "for train_index, test_index in cv.split(subjects):\n",
    "    print(train_index, test_index, sep='\\t')"
   ]
  },
  {
   "cell_type": "markdown",
   "metadata": {},
   "source": [
    ":::{note}\n",
    "**How many folds?**\n",
    "This is a question without a good answer. The optimal number of folds largely depend on your dataset.\n",
    "Having a too large k may result on very long running times, having a too small k might result in insufficient test data for the models.\n",
    "\n",
    "A useful \"rule of thumb\" is to use LOO for low sample sizes (n<30) and 10-fold cross-validation for moderate sample sizes (few hundreds) and 5-fold cross validation or even one single train-test split for large samples. In general, except for very low sample sizes, the results should be relatively stable for a wide range of k-s.\n",
    ":::\n",
    "\n",
    "## Other approaches\n",
    "\n",
    "Many other types of cross-validation exist. For instance:\n",
    "\n",
    "- In classification problems (binary target varaible) one might want to make sure that the training sets contain subjects from both classes (otherwise you can't evaluate the classification performace of that model). In this case, one can perform a so-called [stratified cross-validation](https://scikit-learn.org/stable/modules/cross_validation.html#stratified-k-fold).\n",
    "- In multi-center studies, one might want to ensure that all centers are equally/fairly represented in all folds or, conversely, that the test set only contains observations from a center that was not seen at all by the model at hand. In these cases, the [LeaveOneGroupOut](https://scikit-learn.org/stable/modules/cross_validation.html#leave-one-group-out) or [GroupKFold](https://scikit-learn.org/stable/modules/cross_validation.html#group-k-fold) might come handy.\n",
    "- In case of the classical cross-validation schemes you end up with one single prediction for all subjects, which makes pooling and summarizing the predictions easier. But this does not has to be the case. With alternative resampling schemes like [ShuffleSplit](https://scikit-learn.org/stable/modules/cross_validation.html#shufflesplit), the train-test labels are randomly assigned to the data. Repeating this for multiple iterations allows a finer control on the number of iterations and the proportion of samples on each side of the train / test split.\n",
    "\n",
    "\n",
    "\n",
    "## Cross-validated predictions\n",
    "\n",
    "With cross-validation, we end up with one single prediction for all subjects (i.e. all subjects are used exactly once as a test subject). This makes aggregating (pooling and summarizing) the predictions very easy.\n",
    "\n",
    "\n",
    "Here we will use our example dataset to obtain cross-validated predictions corresponding to `model_2` form the [previous section](train_test.ipynb)."
   ]
  },
  {
   "cell_type": "code",
   "execution_count": 128,
   "outputs": [],
   "source": [
    "df = pd.read_csv(\"https://raw.githubusercontent.com/pni-lab/predmod_lecture/master/ex_data/IXI/ixi.csv\").loc[:100, :]"
   ],
   "metadata": {
    "collapsed": false,
    "pycharm": {
     "name": "#%%\n"
    }
   }
  },
  {
   "cell_type": "code",
   "execution_count": 129,
   "outputs": [
    {
     "name": "stdout",
     "output_type": "stream",
     "text": [
      "MAE =  15.12735493479741 years\n"
     ]
    },
    {
     "data": {
      "text/plain": "<Figure size 432x288 with 1 Axes>",
      "image/png": "[encoded data removed]"
     },
     "metadata": {
      "needs_background": "light"
     },
     "output_type": "display_data"
    }
   ],
   "source": [
    "from sklearn.linear_model import LinearRegression\n",
    "# cross validation\n",
    "cv = KFold(5) # 5 folds, 20 participants in each fold\n",
    "\n",
    "# names of the columns to be used\n",
    "target = 'Age'\n",
    "features = df.columns[2:]\n",
    "\n",
    "# we will collect the predicted values here (initialize it with zeros)\n",
    "cv_predictions = np.zeros(len(df))\n",
    "\n",
    "for train_index, test_index in cv.split(df):\n",
    "    # train on the actual training set\n",
    "    model_2 = LinearRegression().fit(y=df.loc[train_index, target], X=df.loc[train_index, features])\n",
    "    # test on the actual test set and collect it\n",
    "    cv_predictions[test_index] = model_2.predict(df.loc[test_index, features])\n",
    "\n",
    "# finally, plot cv_predictions vs. true age and calculate MAE\n",
    "sns.regplot(x=df[target], y=cv_predictions)\n",
    "print('MAE = ', np.mean(np.abs(df[target] - cv_predictions)), 'years')"
   ],
   "metadata": {
    "collapsed": false,
    "pycharm": {
     "name": "#%%\n"
    }
   }
  },
  {
   "cell_type": "markdown",
   "source": [
    "In this example, in each cross-validation iteration, the size of the training set is 80, that is, equal to the size of the training set in the [previous section](train_test.ipynb).\n",
    "Using this data only, i.e. without utilizing the previous section's test set, here we obtained unbiased estimates of predictive accuracy.\n",
    "\n",
    "Comparably reliable estimates of the true predictive power with almost half the total sample size than in the previous section.\n",
    "**That's the power of cross-validation!**\n",
    "\n",
    "Of course, scikit-learn has shorthand functions for obtaining cross-validated predictions and performance scores.\n",
    "This is illustrated here:"
   ],
   "metadata": {
    "collapsed": false,
    "pycharm": {
     "name": "#%% md\n"
    }
   }
  },
  {
   "cell_type": "code",
   "execution_count": 131,
   "outputs": [
    {
     "name": "stdout",
     "output_type": "stream",
     "text": [
      "MAE =  15.12735493479741 years\n"
     ]
    },
    {
     "data": {
      "text/plain": "<Figure size 432x288 with 1 Axes>",
      "image/png": "[encoded data removed]"
     },
     "metadata": {
      "needs_background": "light"
     },
     "output_type": "display_data"
    }
   ],
   "source": [
    "from sklearn.model_selection import cross_val_predict\n",
    "from sklearn.metrics import mean_absolute_error\n",
    "\n",
    "cv_predictions = cross_val_predict(estimator=LinearRegression(), y=df[target], X=df[features], cv=KFold(5))\n",
    "sns.regplot(x=df[target], y=cv_predictions)\n",
    "print('MAE = ', mean_absolute_error(y_true=df[target], y_pred=cv_predictions), 'years')"
   ],
   "metadata": {
    "collapsed": false,
    "pycharm": {
     "name": "#%%\n"
    }
   }
  },
  {
   "cell_type": "markdown",
   "source": [
    "This produces literally the same results, but is much shorter.\n",
    "\n",
    "\n",
    ":::{admonition} Excercise 3.3\n",
    ":class: tip, dropdown\n",
    "Compare the MAE we got here to the MAE of model_2 on the training and test sets in the previous sections.\n",
    ":::\n",
    "\n",
    ":::{admonition} Excercise 3.4\n",
    ":class: tip, dropdown\n",
    "Try out other k-values for the KFold cross-validation and LOO with the same data?\n",
    "Does it change the results? Can you explain the differences?\n",
    ":::\n",
    "\n",
    ":::{admonition} Excercise 3.5\n",
    ":class: tip, dropdown\n",
    "Load in more data, than try out different k-values again.\n",
    "Is it still sensitive to k? Can you explain why/why not?\n",
    "Tip: Understanding learning curves might help, see <todo: reference>.\n",
    ":::\n",
    "\n",
    ":::{admonition} Excercise 3.6\n",
    ":class: tip, dropdown\n",
    "Load in your own data and train a linear model with cross-validation.\n",
    ":::"
   ],
   "metadata": {
    "collapsed": false
   }
  },
  {
   "cell_type": "markdown",
   "source": [
    "## Model Finalization"
   ],
   "metadata": {
    "collapsed": false
   }
  },
  {
   "cell_type": "markdown",
   "metadata": {
    "pycharm": {
     "name": "#%% md\n"
    }
   },
   "source": [
    "While cross-validation allows getting out the maximum of your dataset, as a result, you'll have to deal with a set of models, instead of one single model.\n",
    "Although the cross-validation results may suggest that all of these models may be reasonably good, it might be still challenging to decide which one to present as the final model, for further use/validation.\n",
    "\n",
    "Constructing the final model after cross-validation is called *model finalization*.\n",
    "\n",
    "There are multiple strategies for model finalization. To mention a few, one can:\n",
    "- simply pick one model from the cross-validation iterations (e.g randomly, or the best performing),\n",
    "- average all models (model coefficients) from the cross-validation iterations,\n",
    "- refit the model on the whole data and consider it as the final model.\n",
    "\n",
    ":::{seealso}\n",
    "You can read more about model finalization for instance [here](https://machinelearningmastery.com/train-final-machine-learning-model/)\n",
    ":::\n",
    "\n",
    "The last solution, i.e. refitting the model on the whole data, can be considered a good solution in many situations, especially with low/moderate sample sizes.\n",
    "\n",
    "If the cross-validation was well designed, the performance measures will suitably describe how well the finalized model trained on all available historical data will perform in general.\n",
    "\n",
    "What's more, if your model could - in general - benefit form more data (i.e. the learning curve is not yet saturating, see <todo> reference>), than you can hope that the finalized model (using all available data) will perform even better on brand new (e.g. prospectively acquired) than expected from the cross-validated predictions, as it was trained on more data than any of the cross-validation models.\n",
    "\n",
    "Of course, in reality, generalization to newly measured data can be very problematic due to [dataset shift](https://gsarantitis.wordpress.com/2020/04/16/data-shift-in-machine-learning-what-is-it-and-how-to-detect-it/): changes in the data distribution, as compared to the training data.\n",
    "Read more about dataset shift and related model validation issues in [chapter 6](../6_validity/index.md)\n",
    "\n",
    "In this chapter, we have seen how testing on unseen data (with single splits or with cross-validation) can provide unbiased estimates of predictive models, even if the models overfitted on the truing data. In the [next section](../4_reducing_complexity/index.md) we will see how overfitting can be prevented by fine-tuning model complexity."
   ]
  }
 ],
 "metadata": {
  "celltoolbar": "Tags",
  "kernelspec": {
   "display_name": "Python 3 (ipykernel)",
   "language": "python",
   "name": "python3"
  },
  "language_info": {
   "codemirror_mode": {
    "name": "ipython",
    "version": 3
   },
   "file_extension": ".py",
   "mimetype": "text/x-python",
   "name": "python",
   "nbconvert_exporter": "python",
   "pygments_lexer": "ipython3",
   "version": "3.8.10"
  }
 },
 "nbformat": 4,
 "nbformat_minor": 1
}