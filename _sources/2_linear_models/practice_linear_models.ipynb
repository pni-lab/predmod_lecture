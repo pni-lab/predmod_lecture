{
 "cells": [
  {
   "cell_type": "markdown",
   "metadata": {
    "pycharm": {
     "name": "#%% md\n"
    }
   },
   "source": [
    "# Linear models - practice session"
   ]
  },
  {
   "cell_type": "code",
   "execution_count": 2,
   "outputs": [],
   "source": [
    "import scipy"
   ],
   "metadata": {
    "collapsed": false,
    "pycharm": {
     "name": "#%%\n"
    }
   }
  },
  {
   "cell_type": "code",
   "execution_count": 3,
   "outputs": [
    {
     "name": "stdout",
     "output_type": "stream",
     "text": [
      "argon2-cffi==21.3.0\r\n",
      "argon2-cffi-bindings==21.2.0\r\n",
      "asttokens==2.0.5\r\n",
      "attrs==21.4.0\r\n",
      "backcall==0.2.0\r\n",
      "black==22.1.0\r\n",
      "bleach==4.1.0\r\n",
      "certifi==2021.10.8\r\n",
      "cffi==1.15.0\r\n",
      "charset-normalizer==2.0.11\r\n",
      "click==8.0.3\r\n",
      "cycler==0.11.0\r\n",
      "debugpy==1.5.1\r\n",
      "decorator==5.1.1\r\n",
      "defusedxml==0.7.1\r\n",
      "entrypoints==0.4\r\n",
      "executing==0.8.2\r\n",
      "fonttools==4.29.1\r\n",
      "ghp-import==2.0.2\r\n",
      "idna==3.3\r\n",
      "importlib-resources==5.4.0\r\n",
      "ipykernel==6.9.0\r\n",
      "ipython==8.0.1\r\n",
      "ipython-genutils==0.2.0\r\n",
      "ipywidgets==7.6.5\r\n",
      "jedi==0.18.1\r\n",
      "Jinja2==3.0.3\r\n",
      "joblib==1.1.0\r\n",
      "jsonschema==4.4.0\r\n",
      "jupyter==1.0.0\r\n",
      "jupyter-client==7.1.2\r\n",
      "jupyter-console==6.4.0\r\n",
      "jupyter-core==4.9.1\r\n",
      "jupyterlab-pygments==0.1.2\r\n",
      "jupyterlab-widgets==1.0.2\r\n",
      "kiwisolver==1.3.2\r\n",
      "MarkupSafe==2.0.1\r\n",
      "matplotlib==3.5.1\r\n",
      "matplotlib-inline==0.1.3\r\n",
      "mistune==0.8.4\r\n",
      "mypy-extensions==0.4.3\r\n",
      "nbclient==0.5.10\r\n",
      "nbconvert==6.4.1\r\n",
      "nbformat==5.1.3\r\n",
      "nest-asyncio==1.5.4\r\n",
      "nibabel==3.2.2\r\n",
      "nilearn==0.9.0\r\n",
      "notebook==6.4.8\r\n",
      "numpy==1.22.2\r\n",
      "packaging==21.3\r\n",
      "pandas==1.4.0\r\n",
      "pandocfilters==1.5.0\r\n",
      "parso==0.8.3\r\n",
      "pathspec==0.9.0\r\n",
      "pexpect==4.8.0\r\n",
      "pickleshare==0.7.5\r\n",
      "Pillow==9.0.1\r\n",
      "platformdirs==2.4.1\r\n",
      "prometheus-client==0.13.1\r\n",
      "prompt-toolkit==3.0.27\r\n",
      "ptyprocess==0.7.0\r\n",
      "pure-eval==0.2.2\r\n",
      "pycparser==2.21\r\n",
      "Pygments==2.11.2\r\n",
      "pyparsing==3.0.7\r\n",
      "pyrsistent==0.18.1\r\n",
      "python-dateutil==2.8.2\r\n",
      "pytz==2021.3\r\n",
      "pyzmq==22.3.0\r\n",
      "qtconsole==5.2.2\r\n",
      "QtPy==2.0.1\r\n",
      "requests==2.27.1\r\n",
      "scikit-learn==1.0.2\r\n",
      "scipy==1.8.0\r\n",
      "Send2Trash==1.8.0\r\n",
      "six==1.16.0\r\n",
      "sklearn==0.0\r\n",
      "stack-data==0.1.4\r\n",
      "terminado==0.13.1\r\n",
      "testpath==0.5.0\r\n",
      "threadpoolctl==3.1.0\r\n",
      "tomli==2.0.0\r\n",
      "tornado==6.1\r\n",
      "traitlets==5.1.1\r\n",
      "typing_extensions==4.0.1\r\n",
      "urllib3==1.26.8\r\n",
      "wcwidth==0.2.5\r\n",
      "webencodings==0.5.1\r\n",
      "widgetsnbextension==3.5.2\r\n",
      "zipp==3.7.0\r\n"
     ]
    }
   ],
   "source": [
    "!pip freeze"
   ],
   "metadata": {
    "collapsed": false,
    "pycharm": {
     "name": "#%%\n"
    }
   }
  },
  {
   "cell_type": "code",
   "execution_count": null,
   "outputs": [],
   "source": [],
   "metadata": {
    "collapsed": false,
    "pycharm": {
     "name": "#%%\n"
    }
   }
  }
 ],
 "metadata": {
  "kernelspec": {
   "display_name": "Python 3",
   "language": "python",
   "name": "python3"
  },
  "language_info": {
   "codemirror_mode": {
    "name": "ipython",
    "version": 3
   },
   "file_extension": ".py",
   "mimetype": "text/x-python",
   "name": "python",
   "nbconvert_exporter": "python",
   "pygments_lexer": "ipython3",
   "version": "3.8.0"
  },
  "widgets": {
   "application/vnd.jupyter.widget-state+json": {
    "state": {},
    "version_major": 2,
    "version_minor": 0
   }
  }
 },
 "nbformat": 4,
 "nbformat_minor": 4
}