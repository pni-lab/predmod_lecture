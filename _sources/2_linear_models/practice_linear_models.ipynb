{
 "cells": [
  {
   "cell_type": "markdown",
   "source": [
    "# Practice Session\n",
    "\n",
    "Let's begin with quickly importing the packages we will need here."
   ],
   "metadata": {
    "collapsed": false
   }
  },
  {
   "cell_type": "markdown",
   "metadata": {},
   "source": [
    "# Practice Session\n",
    "\n",
    "Let's begin with quickly importing the packages we will need here."
   ]
  },
  {
   "cell_type": "code",
   "execution_count": 428,
   "metadata": {
    "pycharm": {
     "name": "#%%\n"
    },
    "tags": [
     "hide-output"
    ]
   },
   "outputs": [],
   "source": [
    "import numpy as np\n",
    "import pandas as pd\n",
    "import seaborn as sns\n",
    "import statsmodels.formula.api as smf"
   ]
  },
  {
   "cell_type": "markdown",
   "metadata": {},
   "source": [
    "Next, we continue with our example dataset, but let's only fetch 70 subjects this time, for simplicity.\n",
    "Then we recreate the plot of the association between age and the volume of the right superior frontal cortex again."
   ]
  },
  {
   "cell_type": "code",
   "execution_count": 429,
   "metadata": {
    "pycharm": {
     "name": "#%%\n"
    }
   },
   "outputs": [
    {
     "data": {
      "text/plain": [
       "<AxesSubplot:xlabel='rh_superiorfrontal_volume', ylabel='Age'>"
      ]
     },
     "execution_count": 429,
     "metadata": {},
     "output_type": "execute_result"
    },
    {
     "data": {
      "image/png": "[encoded data removed]",
      "text/plain": [
       "<Figure size 432x288 with 1 Axes>"
      ]
     },
     "metadata": {
      "needs_background": "light"
     },
     "output_type": "display_data"
    }
   ],
   "source": [
    "df = pd.read_csv(\"https://raw.githubusercontent.com/pni-lab/predmod_lecture/master/ex_data/IXI/ixi.csv\").iloc[:70, :]\n",
    "df.plot.scatter(x='rh_superiorfrontal_volume', y='Age')"
   ]
  },
  {
   "cell_type": "markdown",
   "metadata": {},
   "source": [
    "Let's fit a linear model with the ols (ordinary least squares) function from the python package '[statsmodels](https://scipy.org/)' to assess the strength of the correlation.\n",
    "The syntax is similar to R's linear models, we provide the formula, the data frame and fit the model.\n",
    "\n",
    "# Fitting a simple linear model"
   ]
  },
  {
   "cell_type": "code",
   "execution_count": 430,
   "metadata": {
    "pycharm": {
     "name": "#%%\n"
    }
   },
   "outputs": [
    {
     "data": {
      "text/html": [
       "<table class=\"simpletable\">\n",
       "<caption>OLS Regression Results</caption>\n",
       "<tr>\n",
       "  <th>Dep. Variable:</th>           <td>Age</td>       <th>  R-squared:         </th> <td>   0.230</td>\n",
       "</tr>\n",
       "<tr>\n",
       "  <th>Model:</th>                   <td>OLS</td>       <th>  Adj. R-squared:    </th> <td>   0.219</td>\n",
       "</tr>\n",
       "<tr>\n",
       "  <th>Method:</th>             <td>Least Squares</td>  <th>  F-statistic:       </th> <td>   20.33</td>\n",
       "</tr>\n",
       "<tr>\n",
       "  <th>Date:</th>             <td>Wed, 09 Feb 2022</td> <th>  Prob (F-statistic):</th> <td>2.64e-05</td>\n",
       "</tr>\n",
       "<tr>\n",
       "  <th>Time:</th>                 <td>15:30:42</td>     <th>  Log-Likelihood:    </th> <td> -266.04</td>\n",
       "</tr>\n",
       "<tr>\n",
       "  <th>No. Observations:</th>      <td>    70</td>      <th>  AIC:               </th> <td>   536.1</td>\n",
       "</tr>\n",
       "<tr>\n",
       "  <th>Df Residuals:</th>          <td>    68</td>      <th>  BIC:               </th> <td>   540.6</td>\n",
       "</tr>\n",
       "<tr>\n",
       "  <th>Df Model:</th>              <td>     1</td>      <th>                     </th>     <td> </td>   \n",
       "</tr>\n",
       "<tr>\n",
       "  <th>Covariance Type:</th>      <td>nonrobust</td>    <th>                     </th>     <td> </td>   \n",
       "</tr>\n",
       "</table>\n",
       "<table class=\"simpletable\">\n",
       "<tr>\n",
       "              <td></td>                 <th>coef</th>     <th>std err</th>      <th>t</th>      <th>P>|t|</th>  <th>[0.025</th>    <th>0.975]</th>  \n",
       "</tr>\n",
       "<tr>\n",
       "  <th>Intercept</th>                 <td>   82.4338</td> <td>   10.323</td> <td>    7.985</td> <td> 0.000</td> <td>   61.834</td> <td>  103.034</td>\n",
       "</tr>\n",
       "<tr>\n",
       "  <th>rh_superiorfrontal_volume</th> <td>   -0.0020</td> <td>    0.000</td> <td>   -4.509</td> <td> 0.000</td> <td>   -0.003</td> <td>   -0.001</td>\n",
       "</tr>\n",
       "</table>\n",
       "<table class=\"simpletable\">\n",
       "<tr>\n",
       "  <th>Omnibus:</th>       <td> 5.368</td> <th>  Durbin-Watson:     </th> <td>   1.780</td>\n",
       "</tr>\n",
       "<tr>\n",
       "  <th>Prob(Omnibus):</th> <td> 0.068</td> <th>  Jarque-Bera (JB):  </th> <td>   4.600</td>\n",
       "</tr>\n",
       "<tr>\n",
       "  <th>Skew:</th>          <td> 0.602</td> <th>  Prob(JB):          </th> <td>   0.100</td>\n",
       "</tr>\n",
       "<tr>\n",
       "  <th>Kurtosis:</th>      <td> 3.354</td> <th>  Cond. No.          </th> <td>1.84e+05</td>\n",
       "</tr>\n",
       "</table><br/><br/>Notes:<br/>[1] Standard Errors assume that the covariance matrix of the errors is correctly specified.<br/>[2] The condition number is large, 1.84e+05. This might indicate that there are<br/>strong multicollinearity or other numerical problems."
      ],
      "text/plain": [
       "<class 'statsmodels.iolib.summary.Summary'>\n",
       "\"\"\"\n",
       "                            OLS Regression Results                            \n",
       "==============================================================================\n",
       "Dep. Variable:                    Age   R-squared:                       0.230\n",
       "Model:                            OLS   Adj. R-squared:                  0.219\n",
       "Method:                 Least Squares   F-statistic:                     20.33\n",
       "Date:                Wed, 09 Feb 2022   Prob (F-statistic):           2.64e-05\n",
       "Time:                        15:30:42   Log-Likelihood:                -266.04\n",
       "No. Observations:                  70   AIC:                             536.1\n",
       "Df Residuals:                      68   BIC:                             540.6\n",
       "Df Model:                           1                                         \n",
       "Covariance Type:            nonrobust                                         \n",
       "=============================================================================================\n",
       "                                coef    std err          t      P>|t|      [0.025      0.975]\n",
       "---------------------------------------------------------------------------------------------\n",
       "Intercept                    82.4338     10.323      7.985      0.000      61.834     103.034\n",
       "rh_superiorfrontal_volume    -0.0020      0.000     -4.509      0.000      -0.003      -0.001\n",
       "==============================================================================\n",
       "Omnibus:                        5.368   Durbin-Watson:                   1.780\n",
       "Prob(Omnibus):                  0.068   Jarque-Bera (JB):                4.600\n",
       "Skew:                           0.602   Prob(JB):                        0.100\n",
       "Kurtosis:                       3.354   Cond. No.                     1.84e+05\n",
       "==============================================================================\n",
       "\n",
       "Notes:\n",
       "[1] Standard Errors assume that the covariance matrix of the errors is correctly specified.\n",
       "[2] The condition number is large, 1.84e+05. This might indicate that there are\n",
       "strong multicollinearity or other numerical problems.\n",
       "\"\"\""
      ]
     },
     "execution_count": 430,
     "metadata": {},
     "output_type": "execute_result"
    }
   ],
   "source": [
    "fitted_model = smf.ols('Age ~ rh_superiorfrontal_volume', df).fit()\n",
    "fitted_model.summary()"
   ]
  },
  {
   "cell_type": "markdown",
   "metadata": {
    "pycharm": {
     "name": "#%% md\n"
    }
   },
   "source": [
    "We can also obtain the beta coefficients from the equation:\n",
    "\n",
    "$$\n",
    "y_{i}=\\beta _{0}+\\beta _{1}x_{{i}}+\\varepsilon _{i}\n",
    "$$"
   ]
  },
  {
   "cell_type": "code",
   "execution_count": 431,
   "metadata": {
    "pycharm": {
     "name": "#%%\n"
    }
   },
   "outputs": [
    {
     "data": {
      "text/plain": [
       "Intercept                    82.433762\n",
       "rh_superiorfrontal_volume    -0.001994\n",
       "dtype: float64"
      ]
     },
     "execution_count": 431,
     "metadata": {},
     "output_type": "execute_result"
    }
   ],
   "source": [
    "beta=fitted_model.params\n",
    "beta"
   ]
  },
  {
   "cell_type": "markdown",
   "metadata": {
    "pycharm": {
     "name": "#%% md\n"
    }
   },
   "source": [
    "And use them to calculate predictions with based on the equation.\n",
    "Let's predict the age of a hypotetical new participant who's right superior frontal cortex has a volume of $25000 mm^3$."
   ]
  },
  {
   "cell_type": "code",
   "execution_count": 432,
   "metadata": {
    "pycharm": {
     "name": "#%%\n"
    }
   },
   "outputs": [
    {
     "name": "stdout",
     "output_type": "stream",
     "text": [
      "Predicted age: 32.57850401691034 years\n"
     ]
    }
   ],
   "source": [
    "x_new = 25000\n",
    "yhat = beta[0] + beta[1]*x_new\n",
    "print('Predicted age:', yhat, 'years')"
   ]
  },
  {
   "cell_type": "code",
   "execution_count": 433,
   "metadata": {
    "pycharm": {
     "name": "#%%\n"
    }
   },
   "outputs": [
    {
     "data": {
      "text/plain": [
       "<matplotlib.collections.PathCollection at 0x7f1838db87c0>"
      ]
     },
     "execution_count": 433,
     "metadata": {},
     "output_type": "execute_result"
    },
    {
     "data": {
      "image/png": "[encoded data removed]",
      "text/plain": [
       "<Figure size 432x288 with 1 Axes>"
      ]
     },
     "metadata": {
      "needs_background": "light"
     },
     "output_type": "display_data"
    }
   ],
   "source": [
    "df.plot.scatter(x='rh_superiorfrontal_volume', y='Age',)\n",
    "plt.scatter(x=x_new, y=yhat, color='red')"
   ]
  },
  {
   "cell_type": "markdown",
   "metadata": {
    "pycharm": {
     "name": "#%% md\n"
    }
   },
   "source": [
    "Another one."
   ]
  },
  {
   "cell_type": "code",
   "execution_count": 434,
   "metadata": {
    "pycharm": {
     "name": "#%%\n"
    }
   },
   "outputs": [
    {
     "data": {
      "text/plain": [
       "<matplotlib.collections.PathCollection at 0x7f1838ccb220>"
      ]
     },
     "execution_count": 434,
     "metadata": {},
     "output_type": "execute_result"
    },
    {
     "data": {
      "image/png": "[encoded data removed]",
      "text/plain": [
       "<Figure size 432x288 with 1 Axes>"
      ]
     },
     "metadata": {
      "needs_background": "light"
     },
     "output_type": "display_data"
    }
   ],
   "source": [
    "x_new = np.array([25000, 18000])\n",
    "yhat = beta[0] + beta[1]*x_new\n",
    "df.plot.scatter(x='rh_superiorfrontal_volume', y='Age',)\n",
    "plt.scatter(x=x_new, y=yhat, color='red')"
   ]
  },
  {
   "cell_type": "markdown",
   "metadata": {
    "pycharm": {
     "name": "#%% md\n"
    }
   },
   "source": [
    "Now let's plot many different values."
   ]
  },
  {
   "cell_type": "code",
   "execution_count": 435,
   "metadata": {
    "pycharm": {
     "name": "#%%\n"
    }
   },
   "outputs": [
    {
     "data": {
      "text/plain": [
       "<matplotlib.collections.PathCollection at 0x7f1838f71070>"
      ]
     },
     "execution_count": 435,
     "metadata": {},
     "output_type": "execute_result"
    },
    {
     "data": {
      "image/png": "[encoded data removed]",
      "text/plain": [
       "<Figure size 432x288 with 1 Axes>"
      ]
     },
     "metadata": {
      "needs_background": "light"
     },
     "output_type": "display_data"
    }
   ],
   "source": [
    "x_new = np.arange(start=16000, stop=32000, step=500)\n",
    "yhat = beta[0] + beta[1]*x_new\n",
    "df.plot.scatter(x='rh_superiorfrontal_volume', y='Age')\n",
    "plt.scatter(x=x_new, y=yhat, color='red')"
   ]
  },
  {
   "cell_type": "markdown",
   "metadata": {
    "pycharm": {
     "name": "#%% md\n"
    }
   },
   "source": [
    "Yes, this is the regression line.\n",
    "The seaborn package from pythin has some more handy ways of plotting it (with 95% confidence intervals):"
   ]
  },
  {
   "cell_type": "code",
   "execution_count": 436,
   "metadata": {
    "pycharm": {
     "name": "#%%\n"
    }
   },
   "outputs": [
    {
     "data": {
      "text/plain": [
       "<AxesSubplot:xlabel='rh_superiorfrontal_volume', ylabel='Age'>"
      ]
     },
     "execution_count": 436,
     "metadata": {},
     "output_type": "execute_result"
    },
    {
     "data": {
      "image/png": "[encoded data removed]",
      "text/plain": [
       "<Figure size 432x288 with 1 Axes>"
      ]
     },
     "metadata": {
      "needs_background": "light"
     },
     "output_type": "display_data"
    }
   ],
   "source": [
    "sns.regplot(x='rh_superiorfrontal_volume', y='Age', data=df, line_kws={\"color\": \"red\"})"
   ]
  },
  {
   "cell_type": "markdown",
   "metadata": {
    "pycharm": {
     "name": "#%% md\n"
    }
   },
   "source": [
    ":::{note}\n",
    "You might have noticed that the distribution of the plotted variables is not Normal.\n",
    "Normality assumption and other requirements are of course extremely important, if you want to obtain p-values.\n",
    "In this book we will see how the predictive modelling frees up itself from these assumptions.\n",
    "Normality and other assumptions never harm, but they are not required anymore in case of a properly validated predictive model.\n",
    ":::\n",
    "\n",
    "Now, let's calculate how much the prediction is off on average, by doing a prediction for all original predictor values:"
   ]
  },
  {
   "cell_type": "code",
   "execution_count": 437,
   "metadata": {
    "pycharm": {
     "name": "#%%\n"
    }
   },
   "outputs": [
    {
     "name": "stdout",
     "output_type": "stream",
     "text": [
      "root mean squared error (MSE):   10.823141363809432 years\n",
      "    mean absolute error (MAE):   8.159445133839563 years\n"
     ]
    }
   ],
   "source": [
    "x_new = df['rh_superiorfrontal_volume']\n",
    "yhat = fitted_model.predict(x_new)\n",
    "# Now we predict with the dedicated function from the `statsmodel` package, but is is equivalent with this:\n",
    "# yhat = beta[0] + beta[1]*x_new\n",
    "print('root mean squared error (MSE):  ', np.sqrt(np.mean(np.square(df['Age'] - yhat))), 'years')\n",
    "print('    mean absolute error (MAE):  ', np.mean(np.abs(df['Age'] - yhat)), 'years')"
   ]
  },
  {
   "cell_type": "markdown",
   "metadata": {
    "pycharm": {
     "name": "#%% md\n"
    }
   },
   "source": [
    "# Adding more predictors\n",
    "\n",
    "So far so good, but of course the question arises, if we can improve on this prediction by adding more predictors?"
   ]
  },
  {
   "cell_type": "code",
   "execution_count": 438,
   "metadata": {
    "pycharm": {
     "name": "#%%\n"
    }
   },
   "outputs": [
    {
     "name": "stdout",
     "output_type": "stream",
     "text": [
      "root mean squared error (MSE):   10.487993856395724 years\n",
      "    mean absolute error (MAE):   7.96744497323358 years\n"
     ]
    }
   ],
   "source": [
    "fitted_model = smf.ols('Age ~ rh_superiorfrontal_volume + lh_bankssts_volume + lh_caudalanteriorcingulate_volume + lh_caudalmiddlefrontal_volume + lh_cuneus_volume', df).fit()\n",
    "yhat = fitted_model.predict(df[['rh_superiorfrontal_volume', 'lh_bankssts_volume', 'lh_caudalanteriorcingulate_volume', 'lh_caudalmiddlefrontal_volume', 'lh_cuneus_volume']])\n",
    "print('root mean squared error (MSE):  ', np.sqrt(np.mean(np.square(df['Age'] - yhat))), 'years')\n",
    "print('    mean absolute error (MAE):  ', np.mean(np.abs(df['Age'] - yhat)), 'years')"
   ]
  },
  {
   "cell_type": "markdown",
   "metadata": {
    "pycharm": {
     "name": "#%% md\n"
    }
   },
   "source": [
    "Error decreased... So let's see what happens when we add more and more regions!"
   ]
  },
  {
   "cell_type": "code",
   "execution_count": 439,
   "metadata": {
    "pycharm": {
     "name": "#%%\n"
    }
   },
   "outputs": [
    {
     "data": {
      "text/plain": [
       "<AxesSubplot:>"
      ]
     },
     "execution_count": 439,
     "metadata": {},
     "output_type": "execute_result"
    },
    {
     "data": {
      "image/png": "[encoded data removed]",
      "text/plain": [
       "<Figure size 432x288 with 1 Axes>"
      ]
     },
     "metadata": {
      "needs_background": "light"
     },
     "output_type": "display_data"
    }
   ],
   "source": [
    "mae = []\n",
    "\n",
    "reg_numbers = range(68)\n",
    "\n",
    "for num_reg in reg_numbers:\n",
    "    df_sub = df.drop('Age', axis=1).sample(axis='columns', n=num_reg+1, random_state=42)\n",
    "    df_sub['rh_superiorfrontal_volume'] = df['rh_superiorfrontal_volume']\n",
    "    all_predictors = df_sub.columns\n",
    "    df_sub['Age'] = df['Age']\n",
    "    fitted_model = smf.ols('Age ~ df_sub[all_predictors]', df_sub).fit()\n",
    "    yhat = fitted_model.predict(df_sub)\n",
    "    mae.append(np.mean(np.abs(df['Age'] - yhat)))\n",
    "sns.lineplot(x=reg_numbers, y=mae)"
   ]
  },
  {
   "cell_type": "markdown",
   "metadata": {
    "pycharm": {
     "name": "#%% md\n"
    }
   },
   "source": [
    "When adding all regions, the mean absolute error decreases to:"
   ]
  },
  {
   "cell_type": "code",
   "execution_count": 440,
   "metadata": {
    "pycharm": {
     "name": "#%%\n"
    }
   },
   "outputs": [
    {
     "data": {
      "text/plain": [
       "2.4261128153319675"
      ]
     },
     "execution_count": 440,
     "metadata": {},
     "output_type": "execute_result"
    }
   ],
   "source": [
    "min(mae)"
   ]
  },
  {
   "cell_type": "markdown",
   "metadata": {
    "pycharm": {
     "name": "#%% md\n"
    }
   },
   "source": [
    "Too good to be true! Latest predictive models in the literature usually report a mean absolute error around 3-5 years, with MAE=2.71 ± 2.10 being one of the top-performnig examples, achieved by a deep learning model trained on many thousands of subjects {cite:p}`dinsdale2021learning`.\n",
    "\n",
    "To illustrate what's wrong, let's add randomly generated predictors, that can be garanteed to be independent of the target variable (age)."
   ]
  },
  {
   "cell_type": "code",
   "execution_count": 441,
   "metadata": {
    "pycharm": {
     "name": "#%%\n"
    }
   },
   "outputs": [
    {
     "name": "stdout",
     "output_type": "stream",
     "text": [
      "Min MAE: 1.3992282965463547\n"
     ]
    },
    {
     "data": {
      "image/png": "[encoded data removed]",
      "text/plain": [
       "<Figure size 432x288 with 1 Axes>"
      ]
     },
     "metadata": {
      "needs_background": "light"
     },
     "output_type": "display_data"
    }
   ],
   "source": [
    "mae = []\n",
    "\n",
    "reg_numbers = range(1,68)\n",
    "rng = np.random.default_rng(seed = 42)\n",
    "\n",
    "for num_reg in reg_numbers:\n",
    "    df_random = pd.DataFrame(rng.normal(loc=0, scale=1, size=(len(df), num_reg+1)))\n",
    "    all_predictors = df_random.columns\n",
    "    fitted_model = smf.ols('df.Age ~ df_random', df_random).fit()\n",
    "    yhat = fitted_model.predict(df_random)\n",
    "    mae.append(np.mean(np.abs(df['Age'] - yhat)))\n",
    "\n",
    "sns.lineplot(x=reg_numbers, y=mae)\n",
    "print('Min MAE:', min(mae))"
   ]
  },
  {
   "cell_type": "markdown",
   "metadata": {
    "pycharm": {
     "name": "#%% md\n"
    }
   },
   "source": []
  },
  {
   "cell_type": "markdown",
   "metadata": {},
   "source": [
    "What the heck? Mean absolute error is even lower, even though the model is based on totally random predictors?\n",
    "What we see here is called:\n",
    "\n",
    "## Overfitting\n",
    "\n",
    "Overfitting happens when the model utilizes random variance in the predictors to fit specific characteristics of dataset at hand.\n",
    "The more predictors you have - i.e. the more complex your model is - the more prone it gets to overfit that data it is trained on.\n",
    "\n",
    "```{note}\n",
    "A helpful (but somewhat limiting) methaphore for overfitting is to think about it as the model learning the data at hand, instead of the underlying relationships.\n",
    "```\n",
    "\n",
    "In the next page we will see some real world examples of overfitting.\n",
    "\n",
    "In the next section ([section 3](../3_cross_validation/index.md)) we will see how we can evaluate predictive performance in an unbiased way, i.e. by ruling out overfitting.\n",
    "In [section 4](../4_reducing_complexity/index.md) and [5](../5_hyperparameter_optimization/index.md) we will see how we can fine tune model complexity to find the sweet spot between oversimplification and overfitting, which is the bread and butter of predictive modelling and machine learning."
   ]
  },
  {
   "cell_type": "markdown",
   "metadata": {},
   "source": [
    "```{note}\n",
    "A possible solution to handle many predictors is to fit a separate model for each predictor, so that the target and the predictor variable are swapped.\n",
    "This approach is referred to as mass univariate analysis and is very widespread e.g. in analysis of task-based functional MRI analysis.\n",
    "A drawback of this approach is that the researcher has to correct for the [multiple comparisons](https://en.wikipedia.org/wiki/Multiple_comparisons_problem), often making the analysis overly conservative.\n",
    "\n",
    "Consider looking up '[Andy's Brain Book](https://andysbrainbook.readthedocs.io/en/latest/fMRI_Short_Course/fMRI_05_1stLevelAnalysis.html)' for more details.\n",
    "```\n",
    "\n",
    ":::{admonition} Excercise 2.1\n",
    ":class: tip, dropdown\n",
    "What could be the reason of higher overfitting with random noise than with the true cortical volume data?\n",
    "\n",
    ":::{admonition} Help\n",
    ":class: tip, dropdown\n",
    "Plot out the correlation structure of the real and the randomly simulated data with this commands:\n",
    "```\n",
    "sns.heatmap(np.corrcoef(df_random.values))\n",
    "sns.heatmap(np.corrcoef(df_sub.values))\n",
    "```\n",
    ":::\n",
    "\n",
    ":::{admonition} Excercise 2.2\n",
    ":class: tip, dropdown\n",
    "Launch this notebook interactively in Google Colab, upload and open your own dataset and fit some interesting models of your own choice.\n",
    "Try adding many predictors. Is your model suspicious of overfitting?\n",
    ":::"
   ]
  },
  {
   "cell_type": "code",
   "execution_count": 441,
   "metadata": {
    "pycharm": {
     "name": "#%%\n"
    }
   },
   "outputs": [],
   "source": []
  }
 ],
 "metadata": {
  "celltoolbar": "Tags",
  "kernelspec": {
   "display_name": "Python 3 (ipykernel)",
   "language": "python",
   "name": "python3"
  },
  "language_info": {
   "codemirror_mode": {
    "name": "ipython",
    "version": 3
   },
   "file_extension": ".py",
   "mimetype": "text/x-python",
   "name": "python",
   "nbconvert_exporter": "python",
   "pygments_lexer": "ipython3",
   "version": "3.8.10"
  },
  "widgets": {
   "application/vnd.jupyter.widget-state+json": {
    "state": {},
    "version_major": 2,
    "version_minor": 0
   }
  }
 },
 "nbformat": 4,
 "nbformat_minor": 4
}