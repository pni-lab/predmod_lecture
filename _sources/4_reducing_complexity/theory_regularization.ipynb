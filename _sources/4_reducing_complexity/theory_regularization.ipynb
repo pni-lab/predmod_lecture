{
 "cells": [
  {
   "cell_type": "markdown",
   "metadata": {
    "collapsed": true,
    "pycharm": {
     "name": "#%% md\n"
    }
   },
   "source": [
    "# Feature Reduction and Regularization: a brief theory\n",
    "\n",
    "In the previous sections, we have seen that\n",
    "the more complex a model is (and the less data we have), the more it will be prone to overfitting.\n",
    "\n",
    "We have also seen that models that severely overfit the training sample, will not generalize well\n",
    "to unseen data.\n",
    "\n",
    "Finding the \"sweat spot\" in terms of model complexity lies in the heart of\n",
    "predictive modelling. True machine learning models facilitates finding this sweat spot\n",
    "with so-called hyperparamters that allow fine-tuning\n",
    "different aspects of model complexity.\n",
    "\n",
    "There are two basic methods to reduce model complexity:\n",
    "- reducing the *number* of internal free parameters\n",
    "that are optimised during model fitting.\n",
    "- introducing a *penalty* for complex models during model fitting,\n",
    "  that prefers if the model leaves many of its parameters unused (zero coefficient).\n",
    "\n",
    "## Feature Reduction\n",
    "\n",
    "Reducing the number of features naturally reduces model complexity.\n",
    "In the next section we will see some of the most common strategies to do so.\n",
    "\n",
    "This section provides some theoretical background that will be useful in the next section.\n",
    "\n",
    "### Selecting best features based on their association with the target\n",
    "\n",
    "A possible way of reducing the complexity of a model\n",
    "is to simply retain those feature only, which seem to be correlated to the target in\n",
    "the training set.\n",
    "\n",
    "This can be done based on any conventional statistical inference method.\n",
    "We can for example take (the absolute value of)\n",
    "the Pearson's correlation coefficient:\n",
    "\n",
    "$$\n",
    "r = \\frac{{}\\sum_{i=1}^{n} (x_i - \\overline{x})(y_i - \\overline{y})}\n",
    "{\\sqrt{\\sum_{i=1}^{n} (x_i - \\overline{x})^2(y_i - \\overline{y})^2}}\n",
    "$$\n",
    "\n",
    "In theory an arbitrary threshold can be drawn for the test statistic and\n",
    "can be considered as a hyperparamter.\n",
    "Changing it will change model complexity.\n",
    "\n",
    "Higher thresholds -> less parameters -> lower complexity\n",
    "Lower thershold -> more predictors -> higher complexity\n",
    "\n",
    "In case of highly collinear (correlated) features, this approach may not be efficient in reducing\n",
    "complexity, as it may retain too many features.\n",
    "\n",
    "### Principal Component Analysis\n",
    "\n",
    "A somewhat more sophisticated approach is to apply dimensionality reduction,\n",
    "for instance principal component analysis (PCA).\n",
    "\n",
    "As defined in [Wikipedia](https://en.wikipedia.org/wiki/Principal_component_analysis): PCA is defined as an orthogonal linear transformation that transforms\n",
    "the data to a new coordinate system such that the greatest variance\n",
    "by some scalar projection of the data comes to lie on the first coordinate\n",
    "(called the first principal component),\n",
    "the second-greatest variance on the second coordinate, and so on.\n",
    "\n",
    "Loosely speaking, in case of correlated (collinear) features, PCA decomposes\n",
    "the common component of the features into one single variable. PCA components will, therefore,\n",
    "be orthogonal to each other.\n",
    "\n",
    "Retaining the first k principal component will therefore ensure that as much\n",
    "total variance is reatined from all features as possible and allows for low-complexity\n",
    "models even in case of highly collinear features.\n",
    "\n",
    ":::{figure-md} pca\n",
    "<img src=\"https://upload.wikimedia.org/wikipedia/commons/thumb/f/f5/GaussianScatterPCA.svg/1024px-GaussianScatterPCA.svg.png\" alt=\"fishy\" width=\"400px\">\n",
    "\n",
    "*Principal Component Analysis in two dimensions (Source: [Wikipedia](https://upload.wikimedia.org/wikipedia/commons/thumb/f/f5/GaussianScatterPCA.svg/1024px-GaussianScatterPCA.svg.png), author: Nicoguaro, [CC BY 4.0](https://creativecommons.org/licenses/by/4.0/))*.\n",
    ":::\n",
    "\n",
    "## Partial Least Squares\n",
    "\n",
    "As compared to selecting the K best features and PCA,\n",
    "[Partial Least Squares](https://en.wikipedia.org/wiki/Partial_least_squares_regression) (PLS) brings the best of both words.\n",
    "\n",
    "Instead of finding hyperplanes of maximum variance between the response\n",
    "and independent variables (as PCA does),\n",
    "PLS finds a linear regression model by projecting the predicted\n",
    "variables and the observable variables to a new space.\n",
    "\n",
    "The order of PLS components does not simply reflect how much total variance they explain.\n",
    "It reflects, how much variance they explain in the target variable.\n",
    "\n",
    "PLS often achieves a comparable performance to PCA, but with fewer components included.\n",
    "\n",
    ":::{note}\n",
    "Importantly, PLS can be applied to predict multiple variables at the same time.\n",
    ":::\n",
    "\n",
    "## Regularization\n",
    "\n",
    "Instead of \"manually\" selecting the number of features to include,\n",
    "we can extend the linear regression model so that during minimization of the\n",
    "error term it also considers an extra term, a penalty, which increases if the\n",
    "model is complex.\n",
    "\n",
    "Let's recall the following equation from [chapter 2](../2_linear_models/theory_linear_models.md):\n",
    "\n",
    "$$\n",
    "argmin_\\boldsymbol{b} \\sum [ \\boldsymbol{y} - \\boldsymbol{b}X) ]^2\n",
    "$$\n",
    "\n",
    "which is the term to be minimized when fitting the model.\n",
    "\n",
    "To construct a regularized model, all we have to do is adding a penalty term $f$:\n",
    "\n",
    "$$\n",
    "argmin_\\boldsymbol{b} \\sum [ \\boldsymbol{y} - \\boldsymbol{b}X) ]^2 + \\alpha f(\\boldsymbol{b})\n",
    "$$\n",
    "\n",
    "where $f$ is a function of the model coefficinets $\\boldsymbol{b}$ and \\alpha is\n",
    "the hyperparamter controlling the strength of regularization.\n",
    "\n",
    "Different penalty terms allow a different kind if control over model complexity.\n",
    "Here we will review the two most common regularized regression approaches, Ridge and Lasso.\n",
    "\n",
    "### Ridge\n",
    "\n",
    "In case of [Ridge regression](https://en.wikipedia.org/wiki/Ridge_regression) {cite:p}`hilt1977ridge`, the penalty term is\n",
    "simply the square of the L2-norm of the model coefficients:\n",
    "\n",
    "$$\n",
    "f(\\boldsymbol{b}) = ||\\boldsymbol{b}||_2^2 = \\sum_i b_i^2\n",
    "$$\n",
    "\n",
    "The larger the L2-norm of the model coefficients are,\n",
    "the larger the penalty function will be.\n",
    "Therefore, depending on the value of $\\alpha, \"slimmer\" models with lower coefficients\n",
    "will be preferred.\n",
    "\n",
    "In other words, increasing alpha will pull the model coefficients towards zero and results in this:"
   ]
  },
  {
   "cell_type": "code",
   "execution_count": 42,
   "metadata": {
    "pycharm": {
     "name": "#%%\n"
    },
    "tags": [
     "hide-input"
    ]
   },
   "outputs": [
    {
     "data": {
      "text/plain": "<Figure size 864x216 with 4 Axes>",
      "image/png": "[encoded data removed]"
     },
     "metadata": {
      "needs_background": "light"
     },
     "output_type": "display_data"
    }
   ],
   "source": [
    "!pip install scikit-learn > /dev/null 2>&1\n",
    "import matplotlib.pyplot as plt\n",
    "import seaborn as sns\n",
    "import numpy as np\n",
    "from sklearn.linear_model import LinearRegression, Ridge\n",
    "x=np.array([-1,0,1])\n",
    "y=np.array([-1,0,1])\n",
    "\n",
    "figure, axes = plt.subplots(1, 4, figsize=(12,3))\n",
    "sns.scatterplot(x=x, y=y, ax=axes[0])\n",
    "m, b = np.polyfit(x, y, 1)\n",
    "axes[0].axline([0,0], [1, 1])\n",
    "axes[0].set_title(\"Without Regularization\")\n",
    "axes[0].set_xlim(-2, 2)\n",
    "axes[0].set_ylim(-2, 2)\n",
    "sns.scatterplot(x=x, y=y, ax=axes[1])\n",
    "m = Ridge(alpha=1).fit(y=y, X=np.array([x]).reshape(-1, 1))\n",
    "axes[1].axline([0,0], [1,m.predict(np.array([1]).reshape(-1, 1))[0]])\n",
    "axes[1].set_title(\"alpha = 1\")\n",
    "axes[1].set_xlim(-2, 2)\n",
    "axes[1].set_ylim(-2, 2)\n",
    "sns.scatterplot(x=x, y=y, ax=axes[2])\n",
    "m = Ridge(alpha=2).fit(y=y, X=np.array([x]).reshape(-1, 1))\n",
    "axes[2].axline([0,0], [1,m.predict(np.array([1]).reshape(-1, 1))[0]])\n",
    "axes[2].set_title(\"alpha = 2\")\n",
    "axes[2].set_xlim(-2, 2)\n",
    "axes[2].set_ylim(-2, 2)\n",
    "sns.scatterplot(x=x, y=y, ax=axes[3])\n",
    "m = Ridge(alpha=10).fit(y=y, X=np.array([x]).reshape(-1, 1))\n",
    "axes[3].axline([0,0], [1,m.predict(np.array([1]).reshape(-1, 1))[0]])\n",
    "axes[3].set_title(\"alpha = 10\")\n",
    "axes[3].set_xlim(-2, 2)\n",
    "axes[3].set_ylim(-2, 2)\n",
    "plt.show()"
   ]
  },
  {
   "cell_type": "markdown",
   "metadata": {
    "pycharm": {
     "name": "#%% md\n"
    }
   },
   "source": [
    "Models with high regularization will have more coefficients close to zero (almost ignored), which can be considered as a decrease in model complexity, without having to \"manually\" drop predictors.\n",
    "\n",
    "In case of collinear features, Ridge regression tends to distribute the coefficients across the collinear group."
   ]
  },
  {
   "cell_type": "markdown",
   "metadata": {
    "pycharm": {
     "name": "#%% md\n"
    }
   },
   "source": [
    "### LASSO\n",
    "\n",
    "[LASSO](https://en.wikipedia.org/wiki/Lasso_(statistics)) {cite:p}`santosa1986linear, tibshirani1996regression` (least absolute shrinkage and selection operator) is a regularized linear model, similar to Ridge, with the difference that the penalty term is the L1-norm of the model coefficients, instead of the L2-norm.\n",
    "\n",
    "$$\n",
    "f(\\boldsymbol{b}) = ||\\boldsymbol{b}||_1 = \\sum_i |b_i|\n",
    "$$\n",
    "\n",
    "Similarly to Ridge, the larger the L1-norm of the model coefficients are,\n",
    "the larger the penalty function will be.\n",
    "Therefore, depending on the value of $\\alpha$, \"slimmer\" models with lower coefficients\n",
    "will be preferred.\n",
    "\n",
    "However, L1-regularization tends to completely zero out coefficients, instead of just pulling the towards zero.\n",
    "Features receiving zero coefficient can be considered as dropped during model fit.\n",
    "Therefore, LASSO performs an inherent variable selection.\n",
    "\n",
    "In the previous mock-example, LASSO results in \"more agressive\" shrinkage.\n",
    "Notice that with a high alpha, LASSO completely zeros out the single beta coefficient in the mock example and falls back to a [\"mean-model\"](../2_linear_models/practice_linear_models.ipynb)."
   ]
  },
  {
   "cell_type": "code",
   "execution_count": 43,
   "metadata": {
    "pycharm": {
     "name": "#%%\n"
    },
    "tags": [
     "hide-input"
    ]
   },
   "outputs": [
    {
     "data": {
      "text/plain": "<Figure size 864x216 with 4 Axes>",
      "image/png": "[encoded data removed]"
     },
     "metadata": {
      "needs_background": "light"
     },
     "output_type": "display_data"
    }
   ],
   "source": [
    "import matplotlib.pyplot as plt\n",
    "import seaborn as sns\n",
    "import numpy as np\n",
    "from sklearn.linear_model import Lasso\n",
    "x=np.array([-1,0,1])\n",
    "y=np.array([-1,0,1])\n",
    "\n",
    "figure, axes = plt.subplots(1, 4, figsize=(12,3))\n",
    "sns.scatterplot(x=x, y=y, ax=axes[0])\n",
    "m, b = np.polyfit(x, y, 1)\n",
    "axes[0].axline([0,0], [1, 1])\n",
    "axes[0].set_title(\"Without Regularization\")\n",
    "axes[0].set_xlim(-2, 2)\n",
    "axes[0].set_ylim(-2, 2)\n",
    "sns.scatterplot(x=x, y=y, ax=axes[1])\n",
    "m = Lasso(alpha=0.2).fit(y=y, X=np.array([x]).reshape(-1, 1))\n",
    "axes[1].axline([0,0], [1,m.predict(np.array([1]).reshape(-1, 1))[0]])\n",
    "axes[1].set_title(\"alpha = 0.2\")\n",
    "axes[1].set_xlim(-2, 2)\n",
    "axes[1].set_ylim(-2, 2)\n",
    "sns.scatterplot(x=x, y=y, ax=axes[2])\n",
    "m = Lasso(alpha=0.5).fit(y=y, X=np.array([x]).reshape(-1, 1))\n",
    "axes[2].axline([0,0], [1,m.predict(np.array([1]).reshape(-1, 1))[0]])\n",
    "axes[2].set_title(\"alpha = 0.5\")\n",
    "axes[2].set_xlim(-2, 2)\n",
    "axes[2].set_ylim(-2, 2)\n",
    "sns.scatterplot(x=x, y=y, ax=axes[3])\n",
    "m = Lasso(alpha=1).fit(y=y, X=np.array([x]).reshape(-1, 1))\n",
    "axes[3].axline([0,0], [1,m.predict(np.array([1]).reshape(-1, 1))[0]])\n",
    "axes[3].set_title(\"alpha = 1\")\n",
    "axes[3].set_xlim(-2, 2)\n",
    "axes[3].set_ylim(-2, 2)\n",
    "plt.show()"
   ]
  },
  {
   "cell_type": "markdown",
   "metadata": {
    "pycharm": {
     "name": "#%% md\n"
    }
   },
   "source": [
    "In the [next section](practice_regularization.ipynb), we see how these simple machine learning models can be applied with scikit-learn, and [then](leakage.ipynb) touch upon a common mistake which might make our model performance estimates overly optimistic."
   ]
  },
  {
   "cell_type": "code",
   "execution_count": null,
   "outputs": [],
   "source": [],
   "metadata": {
    "collapsed": false,
    "pycharm": {
     "name": "#%%\n"
    }
   }
  }
 ],
 "metadata": {
  "celltoolbar": "Tags",
  "kernelspec": {
   "display_name": "Python 3 (ipykernel)",
   "language": "python",
   "name": "python3"
  },
  "language_info": {
   "codemirror_mode": {
    "name": "ipython",
    "version": 3
   },
   "file_extension": ".py",
   "mimetype": "text/x-python",
   "name": "python",
   "nbconvert_exporter": "python",
   "pygments_lexer": "ipython3",
   "version": "3.8.10"
  }
 },
 "nbformat": 4,
 "nbformat_minor": 1
}