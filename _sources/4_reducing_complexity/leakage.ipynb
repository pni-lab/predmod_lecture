{
 "cells": [
  {
   "cell_type": "markdown",
   "metadata": {
    "collapsed": true,
    "pycharm": {
     "name": "#%% md\n"
    }
   },
   "source": [
    "# The Second Villain: Feature Leakage\n",
    "\n",
    "The aim of train-test split and cross-validation is to make sure that the model is tested on data about which it has absolutely no information during training.\n",
    "Absolutely no information. But, unfortunately, information about the target can easily \"leak\" into the training process, especially if we already have access to the testing data at the time of training, as in the case of cross-validation.\n",
    "\n",
    "The most typical form of information leakage is employing a common preprocessing step on all features that utilizes information from all subjects (both train and test).\n",
    "\n",
    "A vey characteristic example is when we do feature selection on the whole dataset, including the data that we will test on, i.e before the train-test split or outside of the cross-validation loop. This way we will for sure end up with feature leakage and obtain overly optimistic estimates of prediction accuracy.\n",
    "\n",
    "Let's quickly illustrate the problem with some code!"
   ]
  },
  {
   "cell_type": "code",
   "execution_count": 45,
   "outputs": [],
   "source": [
    "import warnings\n",
    "warnings.simplefilter(\"ignore\")\n",
    "import numpy as np\n",
    "import pandas as pd\n",
    "from sklearn.linear_model import Ridge\n",
    "from sklearn.feature_selection import SelectKBest\n",
    "from sklearn.model_selection import cross_val_predict\n",
    "from sklearn.metrics import mean_absolute_error, r2_score\n",
    "from sklearn.model_selection import LeaveOneOut, KFold\n",
    "import seaborn as sns"
   ],
   "metadata": {
    "collapsed": false,
    "pycharm": {
     "name": "#%%\n"
    }
   }
  },
  {
   "cell_type": "markdown",
   "source": [
    "To make sure there is no chance at all for the model to predict, we will take random data."
   ],
   "metadata": {
    "collapsed": false,
    "pycharm": {
     "name": "#%% md\n"
    }
   }
  },
  {
   "cell_type": "code",
   "execution_count": 46,
   "outputs": [
    {
     "name": "stdout",
     "output_type": "stream",
     "text": [
      "MAE =  9.304656436978659 years\n"
     ]
    },
    {
     "data": {
      "text/plain": "<Figure size 432x288 with 1 Axes>",
      "image/png": "[encoded data removed]"
     },
     "metadata": {
      "needs_background": "light"
     },
     "output_type": "display_data"
    }
   ],
   "source": [
    "n_sub = 30\n",
    "p_features = 100\n",
    "\n",
    "# here we simulate random features - guaranteed to be independent of the target\n",
    "rng = np.random.default_rng(seed = 42)\n",
    "df_random = pd.DataFrame(rng.normal(loc=0, scale=1, size=(n_sub, p_features)))\n",
    "\n",
    "# we load some real age data\n",
    "age = pd.read_csv(\"https://raw.githubusercontent.com/pni-lab/predmod_lecture/master/ex_data/IXI/ixi.csv\").loc[:n_sub-1,['Age']].values.ravel()\n",
    "\n",
    "##########################################################################################################################\n",
    "## DO NOT TRY THIS AT HOME: here we select the features *globally*, before the train test split, to demonstrate leakage  #\n",
    "best_features = SelectKBest(k=30).fit_transform(y=age, X=df_random) # NEVER DO THIS OUTSIDE A CV                         #\n",
    "##########################################################################################################################\n",
    "\n",
    "# cross-validation with a Rideg model\n",
    "cv_predictions = cross_val_predict(estimator=Ridge(0.1), y=age, X=best_features, cv=LeaveOneOut())\n",
    "sns.regplot(x=age, y=cv_predictions)\n",
    "print('MAE = ', mean_absolute_error(y_true=age, y_pred=cv_predictions), 'years')"
   ],
   "metadata": {
    "collapsed": false,
    "pycharm": {
     "name": "#%%\n"
    }
   }
  },
  {
   "cell_type": "markdown",
   "source": [
    "As expected: if we do not select the best features on independnet datam, but instead on the sample which is also used for training (e.g. on the whole sample before the cross-validation), we do [double-dipping](https://en.wikipedia.org/wiki/Circular_analysis).\n",
    "\n",
    "\n",
    "While selecting best features in a circular way is a pretty obvious case of target leakage, there are much more subtle, hard-to-detect forms of information leakage.\n",
    "In general, suspicious is every analysis step that is done outside the cross-validation and incorporates information about any subject that is used for testing.\n",
    "\n",
    "A few examples:\n",
    "- standardizing/scaling all features before the train-test split or the cross-validation (uses mean and standard deviation of the whole population),\n",
    "- co-registering anatomical MRI images to a study-specific standard template (and then running train-test split or cross-validation),\n",
    "- training and cross-validating the machine learning model with many different preprocessing pipelines and then selecting the best,\n",
    "- training and cross-validating the machine learning model with various hyperparameter values and then selecting the best."
   ],
   "metadata": {
    "collapsed": false
   }
  },
  {
   "cell_type": "markdown",
   "source": [
    "As discussed in the [previous sections](practice_regularization.ipynb), the hyperparameters of machine learning models allow for fine-tuning the complexity of the model and, thereby, to fight overfitting an improve generalization to unseen data.\n",
    "But how to find the \"sweat spot\" when setting the hyperparameters if we can't simply check different values and then  select the best?\n",
    "\n",
    "To understand, how that happens, let's look again why we need train-test splits and cross-validation."
   ],
   "metadata": {
    "collapsed": false,
    "pycharm": {
     "name": "#%% md\n"
    }
   }
  },
  {
   "cell_type": "code",
   "execution_count": 47,
   "outputs": [
    {
     "name": "stdout",
     "output_type": "stream",
     "text": [
      "R =  0.6689770859791374\n"
     ]
    },
    {
     "data": {
      "text/plain": "<Figure size 432x288 with 1 Axes>",
      "image/png": "[encoded data removed]"
     },
     "metadata": {
      "needs_background": "light"
     },
     "output_type": "display_data"
    }
   ],
   "source": [
    "n_sub = 20\n",
    "p_features = 20\n",
    "\n",
    "# here we simulate random features - guaranteed to be independent of the target\n",
    "rng = np.random.default_rng(seed = 42)\n",
    "df_random = pd.DataFrame(rng.normal(loc=0, scale=1, size=(n_sub, p_features)))\n",
    "\n",
    "# we load some real age data\n",
    "age = pd.read_csv(\"https://raw.githubusercontent.com/pni-lab/predmod_lecture/master/ex_data/IXI/ixi.csv\").loc[:n_sub-1,['Age']].values.ravel()\n",
    "\n",
    "# sweep parameter space\n",
    "best_preds = None\n",
    "best_score = -1\n",
    "for alpha in np.logspace(start=-3, stop=3, num=20, base=10):\n",
    "    # cross-validation with a Rideg model\n",
    "    cv_predictions = cross_val_predict(estimator=Ridge(alpha), y=age, X=df_random, cv=LeaveOneOut())\n",
    "    # see if it's better\n",
    "    score = np.corrcoef(age, cv_predictions)[0,1]\n",
    "    if score > best_score:\n",
    "        best_score = score\n",
    "        best_preds = cv_predictions\n",
    "\n",
    "sns.regplot(x=age, y=best_preds)\n",
    "print('R = ', best_score)"
   ],
   "metadata": {
    "collapsed": false,
    "pycharm": {
     "name": "#%%\n"
    }
   }
  },
  {
   "cell_type": "markdown",
   "source": [
    "As we have used random features, this is obviously a false result.\n",
    "Leakage trough hyperparameters can be especially problematic in case of many hyperparameters, low sample sizes and leave-one-out cross-validation.\n",
    "In other cases (low number and narrow range of hyperparameter values, large sample size) the risk and the degree of this type of leakage might be negligible.\n",
    "\n",
    "Either way, we should always ensure that leakage can't happen in our machine learning analysis!\n",
    "As leakage can be sometimes very hard to spot, the real proof of a predictive model is always the fully independent *external* validation, e.g. evaluating model performance on newly acquired data. During the development of a predictive model, cross-validation (sometimes called *internal* validation) is usually only the first step. If a model performs well in internal validation, it is already worth to put efforts into acquiring a new, truely independent dataset for external validation.\n",
    "The best practice is to publish the predictive model before the acquisition of the new data starts (e.g. with [preregistration](https://www.cos.io/initiatives/prereg)). Such an approach provides a transparent proof that the model performance estimates are unbiased and leakage-free.\n",
    "\n",
    ":::{note}\n",
    "Leakage issues in predictive modelling are not neccessary a consequence of malicious research practice. As machine learning is typically deployed in complex scenarios (many features, many alternative preprocessing strategies, many potential analysis choices), leakage can often happen unintentionally and unnoticably.\n",
    "Being conscious about the danger of leakage and minimizing (and transparently reporting) alternative analysis branches can, together with higher sample sizes, can boost our trust in the cross-validated results, and improve the chances of a successful external validation and a useful, robust, generalizable model.\n",
    ":::\n",
    "\n",
    ":::{admonition} Exercise 4.10\n",
    ":class: tip, dropdown\n",
    "In both leakage-examples, try increasing sample size. Does it attenuate the effect of leakage?\n",
    ":::\n",
    "\n",
    ":::{admonition} Exercise 4.11\n",
    ":class: tip, dropdown\n",
    "Think about possible leakage scenarios for your own datasets.\n",
    ":::"
   ],
   "metadata": {
    "collapsed": false,
    "pycharm": {
     "name": "#%% md\n"
    }
   }
  }
 ],
 "metadata": {
  "kernelspec": {
   "display_name": "Python 3",
   "language": "python",
   "name": "python3"
  },
  "language_info": {
   "codemirror_mode": {
    "name": "ipython",
    "version": 2
   },
   "file_extension": ".py",
   "mimetype": "text/x-python",
   "name": "python",
   "nbconvert_exporter": "python",
   "pygments_lexer": "ipython2",
   "version": "2.7.6"
  }
 },
 "nbformat": 4,
 "nbformat_minor": 0
}