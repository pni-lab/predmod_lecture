{
 "cells": [
  {
   "cell_type": "markdown",
   "metadata": {},
   "source": [
    "# Working with DataFrames\n",
    "\n",
    "Now we will go to a territory which might be somewhat familiar if you have previously used R (or Matlab). We will import some packages, read the contents of a file and store it in a data-frame."
   ]
  },
  {
   "cell_type": "markdown",
   "metadata": {
    "collapsed": true,
    "pycharm": {
     "name": "#%% md\n"
    }
   },
   "source": [
    "## Importing packages\n",
    "\n",
    "One of the great things about python that very often you don 't have to implement something yourself. It may be already implemented in the many freely accessible python packages, often referred to as the python ecosystem.\n",
    "\n",
    "If you are working on your local computer, you can install python packages e.g. with the tools[pip](https://pip.pypa.io/en/stable/getting-started/) or [conda](https://docs.conda.io/en/latest/).\n",
    "\n",
    "In case you execute this python notebook via Binder or Colab (see Exercise 1.2), the cloud environment already has all the required packages installed.\n",
    "So the only thing you must do is to import the packages, in order to tell python that you intend to use them in your code.\n",
    "\n",
    "Now, we will import a package called [pandas](https://pandas.pydata.org/), a package that provides powerful R-like dataframes to store and manipulate your data.\n",
    "For convenience, we also specify that from now on, we would like to refer to pandas as pd, for short."
   ]
  },
  {
   "cell_type": "code",
   "execution_count": 81,
   "metadata": {
    "pycharm": {
     "name": "#%%\n"
    }
   },
   "outputs": [],
   "source": [
    "import pandas as pd"
   ]
  },
  {
   "cell_type": "markdown",
   "metadata": {},
   "source": [
    "## Loading some data\n",
    "\n",
    "Now let's load some example data. Throughout the book, we will use brain cortical volume and thickness data obtained from the publicly available [\"Information eXtraction from Images\" (IXI) dataset](https://brain-development.org/ixi-dataset/)\n",
    "\n",
    "```{margin} License infromation\n",
    "The IXI dataset is made available under the Creative Commons [CC BY-SA 3.0](https://creativecommons.org/licenses/by-sa/3.0/) license. If you use the IXI data please acknowledge the source of the IXI data.\n",
    "```\n",
    "\n",
    "```{seealso}\n",
    "See supplement X for how raw IXI anatomical MRI data was processed with [Freesurfer](https://surfer.nmr.mgh.harvard.edu/).\n",
    "For more information on analyzing anatomical MR images with Freesurfer e.g. on [Andy's blog](https://www.andysbrainblog.com/andysbrainblog/2018/11/27/introduction-to-freesurfer).\n",
    "```"
   ]
  },
  {
   "cell_type": "code",
   "execution_count": 82,
   "metadata": {
    "pycharm": {
     "name": "#%%\n"
    }
   },
   "outputs": [
    {
     "data": {
      "text/html": [
       "<div>\n",
       "<style scoped>\n",
       "    .dataframe tbody tr th:only-of-type {\n",
       "        vertical-align: middle;\n",
       "    }\n",
       "\n",
       "    .dataframe tbody tr th {\n",
       "        vertical-align: top;\n",
       "    }\n",
       "\n",
       "    .dataframe thead th {\n",
       "        text-align: right;\n",
       "    }\n",
       "</style>\n",
       "<table border=\"1\" class=\"dataframe\">\n",
       "  <thead>\n",
       "    <tr style=\"text-align: right;\">\n",
       "      <th></th>\n",
       "      <th>ID</th>\n",
       "      <th>Age</th>\n",
       "      <th>lh_bankssts_volume</th>\n",
       "      <th>lh_caudalanteriorcingulate_volume</th>\n",
       "      <th>lh_caudalmiddlefrontal_volume</th>\n",
       "      <th>lh_cuneus_volume</th>\n",
       "      <th>lh_entorhinal_volume</th>\n",
       "      <th>lh_fusiform_volume</th>\n",
       "      <th>lh_inferiorparietal_volume</th>\n",
       "      <th>lh_inferiortemporal_volume</th>\n",
       "      <th>...</th>\n",
       "      <th>rh_rostralanteriorcingulate_volume</th>\n",
       "      <th>rh_rostralmiddlefrontal_volume</th>\n",
       "      <th>rh_superiorfrontal_volume</th>\n",
       "      <th>rh_superiorparietal_volume</th>\n",
       "      <th>rh_superiortemporal_volume</th>\n",
       "      <th>rh_supramarginal_volume</th>\n",
       "      <th>rh_frontalpole_volume</th>\n",
       "      <th>rh_temporalpole_volume</th>\n",
       "      <th>rh_transversetemporal_volume</th>\n",
       "      <th>rh_insula_volume</th>\n",
       "    </tr>\n",
       "  </thead>\n",
       "  <tbody>\n",
       "    <tr>\n",
       "      <th>0</th>\n",
       "      <td>2</td>\n",
       "      <td>35.800137</td>\n",
       "      <td>2188</td>\n",
       "      <td>2368</td>\n",
       "      <td>6562</td>\n",
       "      <td>2459</td>\n",
       "      <td>1561</td>\n",
       "      <td>9281</td>\n",
       "      <td>14136</td>\n",
       "      <td>10797</td>\n",
       "      <td>...</td>\n",
       "      <td>2555</td>\n",
       "      <td>17309</td>\n",
       "      <td>21210</td>\n",
       "      <td>12291</td>\n",
       "      <td>12287</td>\n",
       "      <td>10848</td>\n",
       "      <td>1033</td>\n",
       "      <td>2269</td>\n",
       "      <td>1170</td>\n",
       "      <td>6915</td>\n",
       "    </tr>\n",
       "    <tr>\n",
       "      <th>1</th>\n",
       "      <td>12</td>\n",
       "      <td>38.781656</td>\n",
       "      <td>2717</td>\n",
       "      <td>2626</td>\n",
       "      <td>6621</td>\n",
       "      <td>3170</td>\n",
       "      <td>2835</td>\n",
       "      <td>8870</td>\n",
       "      <td>14813</td>\n",
       "      <td>11961</td>\n",
       "      <td>...</td>\n",
       "      <td>3260</td>\n",
       "      <td>19044</td>\n",
       "      <td>24651</td>\n",
       "      <td>13871</td>\n",
       "      <td>13948</td>\n",
       "      <td>11975</td>\n",
       "      <td>1100</td>\n",
       "      <td>2865</td>\n",
       "      <td>1167</td>\n",
       "      <td>6941</td>\n",
       "    </tr>\n",
       "    <tr>\n",
       "      <th>2</th>\n",
       "      <td>13</td>\n",
       "      <td>46.710472</td>\n",
       "      <td>2101</td>\n",
       "      <td>2488</td>\n",
       "      <td>5437</td>\n",
       "      <td>2347</td>\n",
       "      <td>1859</td>\n",
       "      <td>9200</td>\n",
       "      <td>16900</td>\n",
       "      <td>11675</td>\n",
       "      <td>...</td>\n",
       "      <td>2682</td>\n",
       "      <td>17653</td>\n",
       "      <td>23804</td>\n",
       "      <td>10977</td>\n",
       "      <td>12931</td>\n",
       "      <td>15127</td>\n",
       "      <td>975</td>\n",
       "      <td>2099</td>\n",
       "      <td>1032</td>\n",
       "      <td>7395</td>\n",
       "    </tr>\n",
       "    <tr>\n",
       "      <th>3</th>\n",
       "      <td>14</td>\n",
       "      <td>34.236824</td>\n",
       "      <td>1925</td>\n",
       "      <td>1983</td>\n",
       "      <td>5153</td>\n",
       "      <td>2497</td>\n",
       "      <td>2207</td>\n",
       "      <td>7686</td>\n",
       "      <td>12786</td>\n",
       "      <td>8433</td>\n",
       "      <td>...</td>\n",
       "      <td>2120</td>\n",
       "      <td>15070</td>\n",
       "      <td>21001</td>\n",
       "      <td>10993</td>\n",
       "      <td>10890</td>\n",
       "      <td>10453</td>\n",
       "      <td>891</td>\n",
       "      <td>2122</td>\n",
       "      <td>958</td>\n",
       "      <td>6063</td>\n",
       "    </tr>\n",
       "    <tr>\n",
       "      <th>4</th>\n",
       "      <td>15</td>\n",
       "      <td>24.284736</td>\n",
       "      <td>2535</td>\n",
       "      <td>1802</td>\n",
       "      <td>5461</td>\n",
       "      <td>2496</td>\n",
       "      <td>1875</td>\n",
       "      <td>6859</td>\n",
       "      <td>14187</td>\n",
       "      <td>7897</td>\n",
       "      <td>...</td>\n",
       "      <td>2825</td>\n",
       "      <td>13027</td>\n",
       "      <td>21865</td>\n",
       "      <td>10651</td>\n",
       "      <td>12686</td>\n",
       "      <td>11400</td>\n",
       "      <td>1185</td>\n",
       "      <td>2207</td>\n",
       "      <td>1344</td>\n",
       "      <td>8218</td>\n",
       "    </tr>\n",
       "    <tr>\n",
       "      <th>...</th>\n",
       "      <td>...</td>\n",
       "      <td>...</td>\n",
       "      <td>...</td>\n",
       "      <td>...</td>\n",
       "      <td>...</td>\n",
       "      <td>...</td>\n",
       "      <td>...</td>\n",
       "      <td>...</td>\n",
       "      <td>...</td>\n",
       "      <td>...</td>\n",
       "      <td>...</td>\n",
       "      <td>...</td>\n",
       "      <td>...</td>\n",
       "      <td>...</td>\n",
       "      <td>...</td>\n",
       "      <td>...</td>\n",
       "      <td>...</td>\n",
       "      <td>...</td>\n",
       "      <td>...</td>\n",
       "      <td>...</td>\n",
       "      <td>...</td>\n",
       "    </tr>\n",
       "    <tr>\n",
       "      <th>633</th>\n",
       "      <td>648</td>\n",
       "      <td>47.723477</td>\n",
       "      <td>2009</td>\n",
       "      <td>2270</td>\n",
       "      <td>5439</td>\n",
       "      <td>2684</td>\n",
       "      <td>1729</td>\n",
       "      <td>9029</td>\n",
       "      <td>13407</td>\n",
       "      <td>10971</td>\n",
       "      <td>...</td>\n",
       "      <td>3236</td>\n",
       "      <td>15464</td>\n",
       "      <td>21427</td>\n",
       "      <td>11524</td>\n",
       "      <td>12869</td>\n",
       "      <td>11373</td>\n",
       "      <td>814</td>\n",
       "      <td>2419</td>\n",
       "      <td>1360</td>\n",
       "      <td>7423</td>\n",
       "    </tr>\n",
       "    <tr>\n",
       "      <th>634</th>\n",
       "      <td>651</td>\n",
       "      <td>50.395619</td>\n",
       "      <td>1776</td>\n",
       "      <td>1532</td>\n",
       "      <td>5797</td>\n",
       "      <td>2954</td>\n",
       "      <td>1992</td>\n",
       "      <td>9131</td>\n",
       "      <td>13201</td>\n",
       "      <td>9005</td>\n",
       "      <td>...</td>\n",
       "      <td>2146</td>\n",
       "      <td>11883</td>\n",
       "      <td>18137</td>\n",
       "      <td>13668</td>\n",
       "      <td>10833</td>\n",
       "      <td>8420</td>\n",
       "      <td>751</td>\n",
       "      <td>2304</td>\n",
       "      <td>1010</td>\n",
       "      <td>6032</td>\n",
       "    </tr>\n",
       "    <tr>\n",
       "      <th>635</th>\n",
       "      <td>652</td>\n",
       "      <td>42.989733</td>\n",
       "      <td>2315</td>\n",
       "      <td>1898</td>\n",
       "      <td>6234</td>\n",
       "      <td>3285</td>\n",
       "      <td>1857</td>\n",
       "      <td>10453</td>\n",
       "      <td>15412</td>\n",
       "      <td>10639</td>\n",
       "      <td>...</td>\n",
       "      <td>2931</td>\n",
       "      <td>16905</td>\n",
       "      <td>25113</td>\n",
       "      <td>13148</td>\n",
       "      <td>14489</td>\n",
       "      <td>13440</td>\n",
       "      <td>731</td>\n",
       "      <td>2725</td>\n",
       "      <td>1525</td>\n",
       "      <td>7481</td>\n",
       "    </tr>\n",
       "    <tr>\n",
       "      <th>636</th>\n",
       "      <td>653</td>\n",
       "      <td>46.220397</td>\n",
       "      <td>2411</td>\n",
       "      <td>2033</td>\n",
       "      <td>5808</td>\n",
       "      <td>4012</td>\n",
       "      <td>2854</td>\n",
       "      <td>9723</td>\n",
       "      <td>16169</td>\n",
       "      <td>12070</td>\n",
       "      <td>...</td>\n",
       "      <td>2637</td>\n",
       "      <td>15636</td>\n",
       "      <td>19449</td>\n",
       "      <td>13207</td>\n",
       "      <td>13480</td>\n",
       "      <td>11459</td>\n",
       "      <td>1049</td>\n",
       "      <td>2855</td>\n",
       "      <td>1078</td>\n",
       "      <td>7186</td>\n",
       "    </tr>\n",
       "    <tr>\n",
       "      <th>637</th>\n",
       "      <td>662</td>\n",
       "      <td>41.741273</td>\n",
       "      <td>2482</td>\n",
       "      <td>1923</td>\n",
       "      <td>4686</td>\n",
       "      <td>3738</td>\n",
       "      <td>1910</td>\n",
       "      <td>10996</td>\n",
       "      <td>16778</td>\n",
       "      <td>10390</td>\n",
       "      <td>...</td>\n",
       "      <td>3492</td>\n",
       "      <td>16781</td>\n",
       "      <td>20968</td>\n",
       "      <td>13379</td>\n",
       "      <td>15787</td>\n",
       "      <td>12850</td>\n",
       "      <td>1069</td>\n",
       "      <td>2521</td>\n",
       "      <td>1062</td>\n",
       "      <td>7931</td>\n",
       "    </tr>\n",
       "  </tbody>\n",
       "</table>\n",
       "<p>638 rows × 70 columns</p>\n",
       "</div>"
      ],
      "text/plain": [
       "      ID        Age  lh_bankssts_volume  lh_caudalanteriorcingulate_volume  \\\n",
       "0      2  35.800137                2188                               2368   \n",
       "1     12  38.781656                2717                               2626   \n",
       "2     13  46.710472                2101                               2488   \n",
       "3     14  34.236824                1925                               1983   \n",
       "4     15  24.284736                2535                               1802   \n",
       "..   ...        ...                 ...                                ...   \n",
       "633  648  47.723477                2009                               2270   \n",
       "634  651  50.395619                1776                               1532   \n",
       "635  652  42.989733                2315                               1898   \n",
       "636  653  46.220397                2411                               2033   \n",
       "637  662  41.741273                2482                               1923   \n",
       "\n",
       "     lh_caudalmiddlefrontal_volume  lh_cuneus_volume  lh_entorhinal_volume  \\\n",
       "0                             6562              2459                  1561   \n",
       "1                             6621              3170                  2835   \n",
       "2                             5437              2347                  1859   \n",
       "3                             5153              2497                  2207   \n",
       "4                             5461              2496                  1875   \n",
       "..                             ...               ...                   ...   \n",
       "633                           5439              2684                  1729   \n",
       "634                           5797              2954                  1992   \n",
       "635                           6234              3285                  1857   \n",
       "636                           5808              4012                  2854   \n",
       "637                           4686              3738                  1910   \n",
       "\n",
       "     lh_fusiform_volume  lh_inferiorparietal_volume  \\\n",
       "0                  9281                       14136   \n",
       "1                  8870                       14813   \n",
       "2                  9200                       16900   \n",
       "3                  7686                       12786   \n",
       "4                  6859                       14187   \n",
       "..                  ...                         ...   \n",
       "633                9029                       13407   \n",
       "634                9131                       13201   \n",
       "635               10453                       15412   \n",
       "636                9723                       16169   \n",
       "637               10996                       16778   \n",
       "\n",
       "     lh_inferiortemporal_volume  ...  rh_rostralanteriorcingulate_volume  \\\n",
       "0                         10797  ...                                2555   \n",
       "1                         11961  ...                                3260   \n",
       "2                         11675  ...                                2682   \n",
       "3                          8433  ...                                2120   \n",
       "4                          7897  ...                                2825   \n",
       "..                          ...  ...                                 ...   \n",
       "633                       10971  ...                                3236   \n",
       "634                        9005  ...                                2146   \n",
       "635                       10639  ...                                2931   \n",
       "636                       12070  ...                                2637   \n",
       "637                       10390  ...                                3492   \n",
       "\n",
       "     rh_rostralmiddlefrontal_volume  rh_superiorfrontal_volume  \\\n",
       "0                             17309                      21210   \n",
       "1                             19044                      24651   \n",
       "2                             17653                      23804   \n",
       "3                             15070                      21001   \n",
       "4                             13027                      21865   \n",
       "..                              ...                        ...   \n",
       "633                           15464                      21427   \n",
       "634                           11883                      18137   \n",
       "635                           16905                      25113   \n",
       "636                           15636                      19449   \n",
       "637                           16781                      20968   \n",
       "\n",
       "     rh_superiorparietal_volume  rh_superiortemporal_volume  \\\n",
       "0                         12291                       12287   \n",
       "1                         13871                       13948   \n",
       "2                         10977                       12931   \n",
       "3                         10993                       10890   \n",
       "4                         10651                       12686   \n",
       "..                          ...                         ...   \n",
       "633                       11524                       12869   \n",
       "634                       13668                       10833   \n",
       "635                       13148                       14489   \n",
       "636                       13207                       13480   \n",
       "637                       13379                       15787   \n",
       "\n",
       "     rh_supramarginal_volume  rh_frontalpole_volume  rh_temporalpole_volume  \\\n",
       "0                      10848                   1033                    2269   \n",
       "1                      11975                   1100                    2865   \n",
       "2                      15127                    975                    2099   \n",
       "3                      10453                    891                    2122   \n",
       "4                      11400                   1185                    2207   \n",
       "..                       ...                    ...                     ...   \n",
       "633                    11373                    814                    2419   \n",
       "634                     8420                    751                    2304   \n",
       "635                    13440                    731                    2725   \n",
       "636                    11459                   1049                    2855   \n",
       "637                    12850                   1069                    2521   \n",
       "\n",
       "     rh_transversetemporal_volume  rh_insula_volume  \n",
       "0                            1170              6915  \n",
       "1                            1167              6941  \n",
       "2                            1032              7395  \n",
       "3                             958              6063  \n",
       "4                            1344              8218  \n",
       "..                            ...               ...  \n",
       "633                          1360              7423  \n",
       "634                          1010              6032  \n",
       "635                          1525              7481  \n",
       "636                          1078              7186  \n",
       "637                          1062              7931  \n",
       "\n",
       "[638 rows x 70 columns]"
      ]
     },
     "execution_count": 82,
     "metadata": {},
     "output_type": "execute_result"
    }
   ],
   "source": [
    "df=pd.read_csv(\"https://raw.githubusercontent.com/pni-lab/predmod_lecture/master/ex_data/IXI/ixi.csv\")\n",
    "df\n"
   ]
  },
  {
   "cell_type": "markdown",
   "metadata": {},
   "source": [
    "The first two columns of our example dataframe are participant ID and age, then we have a total of 68 cortical volume and thickness values, each computed in 34 regions.\n",
    "Rows correspond to participnats: a total of N=638.\n",
    "The brain regions were delineated by the as based on the Destrieux brain atlas {cite:p}`destrieux2010automatic`, shown below.\n"
   ]
  },
  {
   "cell_type": "code",
   "execution_count": 83,
   "metadata": {
    "pycharm": {
     "name": "#%%\n"
    },
    "tags": [
     "hide-input"
    ]
   },
   "outputs": [
    {
     "data": {
      "image/png": "[encoded data removed]",
      "text/plain": [
       "<Figure size 288x288 with 1 Axes>"
      ]
     },
     "metadata": {
      "needs_background": "light"
     },
     "output_type": "display_data"
    }
   ],
   "source": [
    "from nilearn import datasets, plotting\n",
    "\n",
    "destrieux_atlas = datasets.fetch_atlas_surf_destrieux(verbose=0)\n",
    "fsaverage = datasets.fetch_surf_fsaverage()\n",
    "plotting.plot_surf_roi(fsaverage['pial_left'], roi_map=destrieux_atlas['map_left'],\n",
    "                       hemi='left', view='lateral',\n",
    "                       bg_map=fsaverage['sulc_left'], bg_on_data=True)\n",
    "plotting.show()"
   ]
  },
  {
   "cell_type": "markdown",
   "metadata": {},
   "source": [
    "```{tip}\n",
    "Click on \"Click to show\" to reveal the python code used for visualizing the atlas. Visualization was done with the python package '[nilearn](https://nilearn.github.io/stable/index.html)'.\n",
    "```"
   ]
  },
  {
   "cell_type": "markdown",
   "metadata": {
    "pycharm": {
     "name": "#%% md\n"
    }
   },
   "source": [
    "## Dataframe slicing\n",
    "\n",
    "You can get one or multiple columns from a dataframe by slicing it. Let's get the"
   ]
  },
  {
   "cell_type": "code",
   "execution_count": 115,
   "metadata": {
    "pycharm": {
     "name": "#%%\n"
    }
   },
   "outputs": [
    {
     "data": {
      "text/plain": [
       "0      35.800137\n",
       "1      38.781656\n",
       "2      46.710472\n",
       "3      34.236824\n",
       "4      24.284736\n",
       "         ...    \n",
       "195    63.247091\n",
       "196    36.919918\n",
       "197    47.014374\n",
       "198    41.902806\n",
       "199    67.055441\n",
       "Name: Age, Length: 200, dtype: float64"
      ]
     },
     "execution_count": 115,
     "metadata": {},
     "output_type": "execute_result"
    }
   ],
   "source": [
    "df['Age']"
   ]
  },
  {
   "cell_type": "markdown",
   "metadata": {},
   "source": [
    "Now let's slice the data frame to obtain ID, Age and the volume of the brain region called right superior frontal cortex and obtain the first 5 participants only.\n",
    "To do so you must slice with a list of column names, that's whz we have double square brackets (outer: slicing, inner: list). Then we call head, to get the 'head' of the table."
   ]
  },
  {
   "cell_type": "code",
   "execution_count": 116,
   "metadata": {
    "pycharm": {
     "name": "#%%\n"
    }
   },
   "outputs": [
    {
     "data": {
      "text/html": [
       "<div>\n",
       "<style scoped>\n",
       "    .dataframe tbody tr th:only-of-type {\n",
       "        vertical-align: middle;\n",
       "    }\n",
       "\n",
       "    .dataframe tbody tr th {\n",
       "        vertical-align: top;\n",
       "    }\n",
       "\n",
       "    .dataframe thead th {\n",
       "        text-align: right;\n",
       "    }\n",
       "</style>\n",
       "<table border=\"1\" class=\"dataframe\">\n",
       "  <thead>\n",
       "    <tr style=\"text-align: right;\">\n",
       "      <th></th>\n",
       "      <th>ID</th>\n",
       "      <th>Age</th>\n",
       "      <th>rh_superiorfrontal_volume</th>\n",
       "    </tr>\n",
       "  </thead>\n",
       "  <tbody>\n",
       "    <tr>\n",
       "      <th>0</th>\n",
       "      <td>2</td>\n",
       "      <td>35.800137</td>\n",
       "      <td>21210</td>\n",
       "    </tr>\n",
       "    <tr>\n",
       "      <th>1</th>\n",
       "      <td>12</td>\n",
       "      <td>38.781656</td>\n",
       "      <td>24651</td>\n",
       "    </tr>\n",
       "    <tr>\n",
       "      <th>2</th>\n",
       "      <td>13</td>\n",
       "      <td>46.710472</td>\n",
       "      <td>23804</td>\n",
       "    </tr>\n",
       "    <tr>\n",
       "      <th>3</th>\n",
       "      <td>14</td>\n",
       "      <td>34.236824</td>\n",
       "      <td>21001</td>\n",
       "    </tr>\n",
       "    <tr>\n",
       "      <th>4</th>\n",
       "      <td>15</td>\n",
       "      <td>24.284736</td>\n",
       "      <td>21865</td>\n",
       "    </tr>\n",
       "  </tbody>\n",
       "</table>\n",
       "</div>"
      ],
      "text/plain": [
       "   ID        Age  rh_superiorfrontal_volume\n",
       "0   2  35.800137                      21210\n",
       "1  12  38.781656                      24651\n",
       "2  13  46.710472                      23804\n",
       "3  14  34.236824                      21001\n",
       "4  15  24.284736                      21865"
      ]
     },
     "execution_count": 116,
     "metadata": {},
     "output_type": "execute_result"
    }
   ],
   "source": [
    "df_superiorfrontal = df[['ID', 'Age', 'rh_superiorfrontal_volume']]\n",
    "df_superiorfrontal.head(5)"
   ]
  },
  {
   "cell_type": "markdown",
   "metadata": {
    "pycharm": {
     "name": "#%% md\n"
    }
   },
   "source": [
    "It is very easy to filter you data frame by the values of one of the columns."
   ]
  },
  {
   "cell_type": "code",
   "execution_count": 117,
   "metadata": {
    "pycharm": {
     "name": "#%%\n"
    }
   },
   "outputs": [
    {
     "data": {
      "text/html": [
       "<div>\n",
       "<style scoped>\n",
       "    .dataframe tbody tr th:only-of-type {\n",
       "        vertical-align: middle;\n",
       "    }\n",
       "\n",
       "    .dataframe tbody tr th {\n",
       "        vertical-align: top;\n",
       "    }\n",
       "\n",
       "    .dataframe thead th {\n",
       "        text-align: right;\n",
       "    }\n",
       "</style>\n",
       "<table border=\"1\" class=\"dataframe\">\n",
       "  <thead>\n",
       "    <tr style=\"text-align: right;\">\n",
       "      <th></th>\n",
       "      <th>ID</th>\n",
       "      <th>Age</th>\n",
       "      <th>rh_superiorfrontal_volume</th>\n",
       "    </tr>\n",
       "  </thead>\n",
       "  <tbody>\n",
       "    <tr>\n",
       "      <th>0</th>\n",
       "      <td>2</td>\n",
       "      <td>35.800137</td>\n",
       "      <td>21210</td>\n",
       "    </tr>\n",
       "    <tr>\n",
       "      <th>1</th>\n",
       "      <td>12</td>\n",
       "      <td>38.781656</td>\n",
       "      <td>24651</td>\n",
       "    </tr>\n",
       "    <tr>\n",
       "      <th>2</th>\n",
       "      <td>13</td>\n",
       "      <td>46.710472</td>\n",
       "      <td>23804</td>\n",
       "    </tr>\n",
       "    <tr>\n",
       "      <th>3</th>\n",
       "      <td>14</td>\n",
       "      <td>34.236824</td>\n",
       "      <td>21001</td>\n",
       "    </tr>\n",
       "    <tr>\n",
       "      <th>5</th>\n",
       "      <td>16</td>\n",
       "      <td>55.167693</td>\n",
       "      <td>20534</td>\n",
       "    </tr>\n",
       "    <tr>\n",
       "      <th>...</th>\n",
       "      <td>...</td>\n",
       "      <td>...</td>\n",
       "      <td>...</td>\n",
       "    </tr>\n",
       "    <tr>\n",
       "      <th>195</th>\n",
       "      <td>223</td>\n",
       "      <td>63.247091</td>\n",
       "      <td>19527</td>\n",
       "    </tr>\n",
       "    <tr>\n",
       "      <th>196</th>\n",
       "      <td>224</td>\n",
       "      <td>36.919918</td>\n",
       "      <td>21764</td>\n",
       "    </tr>\n",
       "    <tr>\n",
       "      <th>197</th>\n",
       "      <td>225</td>\n",
       "      <td>47.014374</td>\n",
       "      <td>18717</td>\n",
       "    </tr>\n",
       "    <tr>\n",
       "      <th>198</th>\n",
       "      <td>226</td>\n",
       "      <td>41.902806</td>\n",
       "      <td>18759</td>\n",
       "    </tr>\n",
       "    <tr>\n",
       "      <th>199</th>\n",
       "      <td>227</td>\n",
       "      <td>67.055441</td>\n",
       "      <td>17334</td>\n",
       "    </tr>\n",
       "  </tbody>\n",
       "</table>\n",
       "<p>143 rows × 3 columns</p>\n",
       "</div>"
      ],
      "text/plain": [
       "      ID        Age  rh_superiorfrontal_volume\n",
       "0      2  35.800137                      21210\n",
       "1     12  38.781656                      24651\n",
       "2     13  46.710472                      23804\n",
       "3     14  34.236824                      21001\n",
       "5     16  55.167693                      20534\n",
       "..   ...        ...                        ...\n",
       "195  223  63.247091                      19527\n",
       "196  224  36.919918                      21764\n",
       "197  225  47.014374                      18717\n",
       "198  226  41.902806                      18759\n",
       "199  227  67.055441                      17334\n",
       "\n",
       "[143 rows x 3 columns]"
      ]
     },
     "execution_count": 117,
     "metadata": {},
     "output_type": "execute_result"
    }
   ],
   "source": [
    "df_superiorfrontal[df_superiorfrontal['Age']>30]"
   ]
  },
  {
   "cell_type": "markdown",
   "metadata": {
    "pycharm": {
     "name": "#%% md\n"
    }
   },
   "source": [
    "## Plotting\n",
    "\n",
    "Pandas dataframes provide build-in plotting functions.\n",
    "Let's see how the age of the participants is distributed."
   ]
  },
  {
   "cell_type": "code",
   "execution_count": 126,
   "metadata": {
    "pycharm": {
     "name": "#%%\n"
    }
   },
   "outputs": [
    {
     "data": {
      "text/plain": [
       "array([[<AxesSubplot:title={'center':'Age'}>]], dtype=object)"
      ]
     },
     "execution_count": 126,
     "metadata": {},
     "output_type": "execute_result"
    },
    {
     "data": {
      "image/png": "[encoded data removed]",
      "text/plain": [
       "<Figure size 432x288 with 1 Axes>"
      ]
     },
     "metadata": {
      "needs_background": "light"
     },
     "output_type": "display_data"
    }
   ],
   "source": [
    "df.hist('Age')"
   ]
  },
  {
   "cell_type": "markdown",
   "metadata": {
    "pycharm": {
     "name": "#%% md\n"
    }
   },
   "source": [
    "Now, let's plot the volume of our previously selected brain region against age."
   ]
  },
  {
   "cell_type": "code",
   "execution_count": 124,
   "metadata": {
    "pycharm": {
     "name": "#%%\n"
    }
   },
   "outputs": [
    {
     "data": {
      "text/plain": [
       "<AxesSubplot:xlabel='Age', ylabel='rh_superiorfrontal_volume'>"
      ]
     },
     "execution_count": 124,
     "metadata": {},
     "output_type": "execute_result"
    },
    {
     "data": {
      "image/png": "[encoded data removed]",
      "text/plain": [
       "<Figure size 432x288 with 1 Axes>"
      ]
     },
     "metadata": {
      "needs_background": "light"
     },
     "output_type": "display_data"
    }
   ],
   "source": [
    "df.plot.scatter(x='Age', y='rh_superiorfrontal_volume')"
   ]
  },
  {
   "cell_type": "markdown",
   "source": [
    "Looks like an inverse association...\n",
    "In the next section, we will see how we can take advantage of this single association in order to predict the age of a participant. And also how we can get into trouble when we want to improve the prediction by adding more regions."
   ],
   "metadata": {
    "collapsed": false,
    "pycharm": {
     "name": "#%% md\n"
    }
   }
  },
  {
   "cell_type": "markdown",
   "metadata": {
    "pycharm": {
     "name": "#%% md\n"
    }
   },
   "source": [
    ":::{admonition} Excercise 1.2\n",
    ":class: tip, dropdown\n",
    "Launch this notebook interactively in Google Colab (by clicking the rocket) and modify the code to plot out other variables.\n",
    ":::\n",
    "\n",
    ":::{admonition} Excercise 1.3\n",
    ":class: tip, dropdown\n",
    "Launch this notebook interactively in Google Colab (by clicking the rocket) and modify to load in your own dataframe.\n",
    ":::"
   ]
  }
 ],
 "metadata": {
  "celltoolbar": "Tags",
  "kernelspec": {
   "display_name": "Python 3 (ipykernel)",
   "language": "python",
   "name": "python3"
  },
  "language_info": {
   "codemirror_mode": {
    "name": "ipython",
    "version": 3
   },
   "file_extension": ".py",
   "mimetype": "text/x-python",
   "name": "python",
   "nbconvert_exporter": "python",
   "pygments_lexer": "ipython3",
   "version": "3.8.10"
  }
 },
 "nbformat": 4,
 "nbformat_minor": 1
}