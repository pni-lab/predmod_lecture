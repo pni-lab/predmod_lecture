{
 "cells": [
  {
   "cell_type": "markdown",
   "metadata": {
    "collapsed": true,
    "pycharm": {
     "name": "#%% md\n"
    }
   },
   "source": [
    "# The Second Villain: Feature Leakage\n",
    "\n",
    "The aim of train-test split and cross-validation is to make sure that the model is tested on data about which it has absolutely no information during training.\n",
    "Absolutely no information.\n",
    "\n",
    "But, unfortunately, information can easily leak, especially if we already have access to the testing data at the time of training, as in the case of cross-validation.\n",
    "\n",
    "The most typical form of information leakage is employing a common preprocessing step on all features that utilizes information from all subjects (both train and test).\n",
    "\n",
    "A simplistic example is feature standardization, i.e. converting the features to zero mean and unique variance. As several [machin learning models](../4_reducing_complexity/index.md) are sensitive to the magnitude of the features, this is a common step in many predictive modelling pipelines.\n",
    "\n",
    "$$\n",
    "f_{std} = \\frac{f-\\mu_f}{\\sigma_f}\n",
    "$$\n",
    "\n",
    "In case features are standardized all together, i.e before the train-test split or outside of the cross-validation loop, we end up with feature leakage.\n",
    "Namely, features values of subjects from the training set will be standardized with the $\\mu$ and $\\sigma$ values computed on all subjects, **including subjects from the training set**\n",
    "\n",
    "Let's quickly illustrate the problem with some code:"
   ]
  },
  {
   "cell_type": "code",
   "execution_count": 14,
   "outputs": [],
   "source": [
    "import numpy as np\n",
    "import pandas as pd\n",
    "from sklearn.linear_model import LinearRegression\n",
    "from sklearn.model_selection import cross_val_predict\n",
    "from sklearn.metrics import mean_absolute_error\n",
    "from sklearn.model_selection import LeaveOneOut\n",
    "import seaborn as sns"
   ],
   "metadata": {
    "collapsed": false,
    "pycharm": {
     "name": "#%%\n"
    }
   }
  },
  {
   "cell_type": "code",
   "execution_count": 18,
   "outputs": [
    {
     "name": "stdout",
     "output_type": "stream",
     "text": [
      "MAE =  28.424867768992854 years\n"
     ]
    },
    {
     "data": {
      "text/plain": "<Figure size 432x288 with 1 Axes>",
      "image/png": "[encoded data removed]"
     },
     "metadata": {
      "needs_background": "light"
     },
     "output_type": "display_data"
    }
   ],
   "source": [
    "df = pd.read_csv(\"https://raw.githubusercontent.com/pni-lab/predmod_lecture/master/ex_data/IXI/ixi.csv\").loc[:10, :]\n",
    "\n",
    "# here we simulate random features - guaranteed to be independent of the target\n",
    "rng = np.random.default_rng(seed = 42)\n",
    "df_random = pd.DataFrame(rng.normal(loc=0, scale=1, size=(len(df), 5)))\n",
    "features = df_random.columns\n",
    "target = 'Age'\n",
    "df_random[target] = df[target]\n",
    "\n",
    "#######################################################################################################\n",
    "## here we standardize the features *globally*, before the train test split, to demonstrate leakage\n",
    "# DO NOT TRY THIS AT HOME\n",
    "df_random.loc[:, features] = (df_random.loc[:, features] - df_random.loc[:, features].mean()) / df_random.loc[:, features].std()\n",
    "########################################################################################################\n",
    "\n",
    "cv_predictions = cross_val_predict(estimator=LinearRegression(), y=df_random[target], X=df_random[features], cv=LeaveOneOut())\n",
    "sns.regplot(x=df_random[target], y=cv_predictions)\n",
    "print('MAE = ', mean_absolute_error(y_true=df_random[target], y_pred=cv_predictions), 'years')"
   ],
   "metadata": {
    "collapsed": false,
    "pycharm": {
     "name": "#%%\n"
    }
   }
  },
  {
   "cell_type": "markdown",
   "source": [
    ":::{seealso}\n",
    "https://scikit-learn.org/stable/modules/preprocessing.html\n",
    ":::"
   ],
   "metadata": {
    "collapsed": false
   }
  }
 ],
 "metadata": {
  "kernelspec": {
   "display_name": "Python 3",
   "language": "python",
   "name": "python3"
  },
  "language_info": {
   "codemirror_mode": {
    "name": "ipython",
    "version": 2
   },
   "file_extension": ".py",
   "mimetype": "text/x-python",
   "name": "python",
   "nbconvert_exporter": "python",
   "pygments_lexer": "ipython2",
   "version": "2.7.6"
  }
 },
 "nbformat": 4,
 "nbformat_minor": 0
}