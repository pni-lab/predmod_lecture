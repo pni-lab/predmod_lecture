{
 "cells": [
  {
   "cell_type": "markdown",
   "metadata": {
    "collapsed": true,
    "pycharm": {
     "name": "#%% md\n"
    }
   },
   "source": [
    "# 1. Python basics\n",
    "\n",
    "The practical part of the book builds on python examples.\n",
    "\n",
    "Yes, python is a programming language and, yes, we will have to write code.\n",
    "But don't be scared, python is friendly (mostly) and you don't have to become a full stack software developer to do predictive modelling or any other scientific work in python.\n",
    "\n",
    "People who have some experience with Matlab or R, usually find it rather easy to get started with python (and the transition is often happens to be persistent.)\n",
    "\n",
    "Here we will have a quick python crash course and also see how python excercises in this jupyter book can be run interactively.\n",
    "\n",
    "This below is a 'code cell', a place in the book where pythin code can be inserted."
   ]
  },
  {
   "cell_type": "code",
   "execution_count": 5,
   "outputs": [
    {
     "name": "stdout",
     "output_type": "stream",
     "text": [
      "Hello Python Word!\n"
     ]
    }
   ],
   "source": [
    "print('Hello Python Word!')"
   ],
   "metadata": {
    "collapsed": false,
    "pycharm": {
     "name": "#%%\n"
    }
   }
  },
  {
   "cell_type": "markdown",
   "source": [
    "You can run this cell yourself, by clicking at the rocket at the top of the page and the \"Live Code\".\n",
    "\n",
    "```{image} live-code.png\n",
    ":alt: live-code\n",
    ":class: bg-primary mb-1\n",
    ":width: 150px\n",
    ":align: left\n",
    "```\n",
    "\n",
    "```{margin} Excercises\n",
    "You will find excercises like troughout the book, which usually require modifying the code, either as live code or by opening the code in Binder or Google Colab (see below).\n",
    "```\n",
    "\n",
    ":::{admonition} Excercise 1.1\n",
    ":class: tip, dropdown\n",
    "Modify the message from \"Hello Python Word!\" to \"Hi there little snake!\" and run your modified code with as 'live code'.\n",
    ":::"
   ],
   "metadata": {
    "collapsed": false,
    "pycharm": {
     "name": "#%% md\n"
    }
   }
  },
  {
   "cell_type": "markdown",
   "source": [
    "## Todo:\n",
    "- import packages\n",
    "- load data frame with pandas\n",
    "- basic data frame operations"
   ],
   "metadata": {
    "collapsed": false,
    "pycharm": {
     "name": "#%% md\n"
    }
   }
  }
 ],
 "metadata": {
  "kernelspec": {
   "display_name": "Python 3",
   "language": "python",
   "name": "python3"
  },
  "language_info": {
   "codemirror_mode": {
    "name": "ipython",
    "version": 2
   },
   "file_extension": ".py",
   "mimetype": "text/x-python",
   "name": "python",
   "nbconvert_exporter": "python",
   "pygments_lexer": "ipython2",
   "version": "2.7.6"
  }
 },
 "nbformat": 4,
 "nbformat_minor": 0
}